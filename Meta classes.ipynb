{
 "cells": [
  {
   "cell_type": "code",
   "execution_count": 8,
   "id": "816eefbb-ee3c-49eb-8e57-d02e8f70fede",
   "metadata": {},
   "outputs": [
    {
     "name": "stdout",
     "output_type": "stream",
     "text": [
      "Creating class:  MyClass\n"
     ]
    }
   ],
   "source": [
    "class MyMeta(type):\n",
    "    def __new__(cls, name, bases, dct):\n",
    "        print(\"Creating class: \",name)\n",
    "        return super().__new__(cls, name, bases, dct)\n",
    "\n",
    "class MyClass(metaclass=MyMeta):\n",
    "    pass"
   ]
  },
  {
   "cell_type": "code",
   "execution_count": 11,
   "id": "f1a21fd5-3559-46fd-815e-97673650cd70",
   "metadata": {},
   "outputs": [
    {
     "name": "stdout",
     "output_type": "stream",
     "text": [
      "True\n"
     ]
    }
   ],
   "source": [
    "class SingletonMeta(type):\n",
    "    _instances = {}\n",
    "\n",
    "    def __call__(cls, *args):\n",
    "        if cls not in cls._instances:\n",
    "            cls._instances[cls] = super().__call__(*args)\n",
    "        return cls._instances[cls]\n",
    "\n",
    "class SingletonClass(metaclass=SingletonMeta):\n",
    "    pass\n",
    "\n",
    "# Usage:\n",
    "s1 = SingletonClass()\n",
    "s2 = SingletonClass()\n",
    "print(s1 ==s2)  # True (both variables point to the same instance)\n"
   ]
  },
  {
   "cell_type": "code",
   "execution_count": null,
   "id": "acd7acba-8ae4-4a66-a21e-22cd834be00f",
   "metadata": {},
   "outputs": [],
   "source": []
  }
 ],
 "metadata": {
  "kernelspec": {
   "display_name": "Python 3 (ipykernel)",
   "language": "python",
   "name": "python3"
  },
  "language_info": {
   "codemirror_mode": {
    "name": "ipython",
    "version": 3
   },
   "file_extension": ".py",
   "mimetype": "text/x-python",
   "name": "python",
   "nbconvert_exporter": "python",
   "pygments_lexer": "ipython3",
   "version": "3.12.4"
  }
 },
 "nbformat": 4,
 "nbformat_minor": 5
}
