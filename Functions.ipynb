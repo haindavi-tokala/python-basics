{
 "cells": [
  {
   "cell_type": "code",
   "execution_count": null,
   "id": "397e850e-17a9-45dc-9922-db16588610a4",
   "metadata": {},
   "outputs": [],
   "source": []
  },
  {
   "cell_type": "code",
   "execution_count": 1,
   "id": "7748e970-989c-4e40-8df5-e2c0d0933067",
   "metadata": {},
   "outputs": [],
   "source": [
    "def my_function():\n",
    "  print(\"Hello\")"
   ]
  },
  {
   "cell_type": "code",
   "execution_count": 3,
   "id": "1479a21a-cc72-4ba4-8939-92c9be098dc5",
   "metadata": {},
   "outputs": [
    {
     "name": "stdout",
     "output_type": "stream",
     "text": [
      "Hello from a function\n"
     ]
    }
   ],
   "source": [
    "my_function()"
   ]
  },
  {
   "cell_type": "code",
   "execution_count": 5,
   "id": "9ecc2565-9b43-44e9-9a82-5d5d5f84a051",
   "metadata": {},
   "outputs": [
    {
     "name": "stdout",
     "output_type": "stream",
     "text": [
      "my name isEmil\n",
      "my name isTobias\n",
      "my name isLinus\n"
     ]
    }
   ],
   "source": [
    "def my_function(fname):\n",
    "  print(\"my name is\"+fname)\n",
    "\n",
    "my_function(\"Emil\")\n",
    "my_function(\"Tobias\")\n",
    "my_function(\"Linus\")"
   ]
  },
  {
   "cell_type": "code",
   "execution_count": 8,
   "id": "cab5f126-04a2-4ced-bb51-96ace2d4e330",
   "metadata": {},
   "outputs": [
    {
     "name": "stdout",
     "output_type": "stream",
     "text": [
      "314.0\n"
     ]
    }
   ],
   "source": [
    "def area(r):\n",
    "    a=3.14*r*r\n",
    "    return a\n",
    "print(area(10))    "
   ]
  },
  {
   "cell_type": "code",
   "execution_count": 10,
   "id": "8d65c1f4-f4a9-4848-bf21-ad2931cabbf3",
   "metadata": {},
   "outputs": [
    {
     "name": "stdout",
     "output_type": "stream",
     "text": [
      "I am from Sweden\n",
      "I am from India\n",
      "I am from Norway\n",
      "I am from Brazil\n"
     ]
    }
   ],
   "source": [
    "def my_function(country = \"Norway\"):\n",
    "  print(\"I am from \" + country)\n",
    "\n",
    "my_function(\"Sweden\")\n",
    "my_function(\"India\")\n",
    "my_function()\n",
    "my_function(\"Brazil\")"
   ]
  },
  {
   "cell_type": "code",
   "execution_count": 11,
   "id": "6cbccb72-290d-43e8-b615-696a4b2f5808",
   "metadata": {},
   "outputs": [
    {
     "name": "stdout",
     "output_type": "stream",
     "text": [
      "apple\n",
      "banana\n",
      "cherry\n"
     ]
    }
   ],
   "source": [
    "def my_func(food):\n",
    "  for x in food:\n",
    "    print(x)\n",
    "\n",
    "fruits = [\"apple\", \"banana\", \"cherry\"]\n",
    "\n",
    "my_func(fruits)"
   ]
  },
  {
   "cell_type": "code",
   "execution_count": 13,
   "id": "8b10aa2a-cf60-4392-bafb-0581a21b8e5f",
   "metadata": {},
   "outputs": [
    {
     "name": "stdout",
     "output_type": "stream",
     "text": [
      "15\n",
      "25\n",
      "45\n"
     ]
    }
   ],
   "source": [
    "def my_funct(x):\n",
    "  return 5 * x\n",
    "\n",
    "print(my_funct(3))\n",
    "print(my_funct(5))\n",
    "print(my_funct(9))"
   ]
  },
  {
   "cell_type": "code",
   "execution_count": 14,
   "id": "c9cb9f7f-462b-4891-9090-f7031b6190cb",
   "metadata": {},
   "outputs": [
    {
     "name": "stdout",
     "output_type": "stream",
     "text": [
      "hi\n",
      "welcome\n"
     ]
    }
   ],
   "source": [
    "def myFun(*argv):\n",
    "    for args in argv:\n",
    "        print(args)\n",
    "myFun(\"hi\",\"welcome\")        "
   ]
  },
  {
   "cell_type": "code",
   "execution_count": 15,
   "id": "5868eab0-4e40-417e-86a7-ef0885519864",
   "metadata": {},
   "outputs": [
    {
     "name": "stdout",
     "output_type": "stream",
     "text": [
      "a : hi\n",
      "b : welcome\n"
     ]
    }
   ],
   "source": [
    "def myFun(**kwargs):\n",
    "    for key,val in kwargs.items():\n",
    "        print(key,\":\",val)\n",
    "myFun(a=\"hi\",b=\"welcome\")     "
   ]
  },
  {
   "cell_type": "code",
   "execution_count": 16,
   "id": "55df320a-b4d7-4e54-92c3-553f70915ca3",
   "metadata": {},
   "outputs": [
    {
     "name": "stdout",
     "output_type": "stream",
     "text": [
      "15\n"
     ]
    }
   ],
   "source": [
    "x = lambda a : a + 10\n",
    "print(x(5))"
   ]
  },
  {
   "cell_type": "code",
   "execution_count": null,
   "id": "d7cf1974-9d51-4d5b-b379-91cd8d6c60f4",
   "metadata": {},
   "outputs": [],
   "source": []
  }
 ],
 "metadata": {
  "kernelspec": {
   "display_name": "Python 3 (ipykernel)",
   "language": "python",
   "name": "python3"
  },
  "language_info": {
   "codemirror_mode": {
    "name": "ipython",
    "version": 3
   },
   "file_extension": ".py",
   "mimetype": "text/x-python",
   "name": "python",
   "nbconvert_exporter": "python",
   "pygments_lexer": "ipython3",
   "version": "3.12.4"
  }
 },
 "nbformat": 4,
 "nbformat_minor": 5
}
