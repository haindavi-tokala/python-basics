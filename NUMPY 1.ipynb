{
 "cells": [
  {
   "cell_type": "code",
   "execution_count": 1,
   "id": "4d8c73b5-2dbd-488a-90c0-7d72a4fc76a3",
   "metadata": {},
   "outputs": [
    {
     "data": {
      "text/plain": [
       "'1.26.4'"
      ]
     },
     "execution_count": 1,
     "metadata": {},
     "output_type": "execute_result"
    }
   ],
   "source": [
    "import numpy as np\n",
    "np.__version__"
   ]
  },
  {
   "cell_type": "code",
   "execution_count": 112,
   "id": "db6a9b13-aa4b-41e7-9cbb-b08db5e40e98",
   "metadata": {},
   "outputs": [
    {
     "data": {
      "text/plain": [
       "(1, numpy.ndarray)"
      ]
     },
     "execution_count": 112,
     "metadata": {},
     "output_type": "execute_result"
    }
   ],
   "source": [
    "a=np.array([1,2,3,5,7,8])\n",
    "a[0],type(a)"
   ]
  },
  {
   "cell_type": "code",
   "execution_count": 6,
   "id": "b4442845-a66f-4bb6-b7d0-78e987630e02",
   "metadata": {},
   "outputs": [],
   "source": [
    "a2=np.array([4,5,7,8])"
   ]
  },
  {
   "cell_type": "code",
   "execution_count": 7,
   "id": "8985bbd4-04b0-4ac7-a854-b7ff584dd462",
   "metadata": {},
   "outputs": [
    {
     "data": {
      "text/plain": [
       "(2127856097520, 2127893438000)"
      ]
     },
     "execution_count": 7,
     "metadata": {},
     "output_type": "execute_result"
    }
   ],
   "source": [
    "id(a),id(a2)"
   ]
  },
  {
   "cell_type": "code",
   "execution_count": 8,
   "id": "78106a47-28be-4025-8b73-4c295b179fa0",
   "metadata": {},
   "outputs": [
    {
     "name": "stdout",
     "output_type": "stream",
     "text": [
      "2127856097520\n"
     ]
    }
   ],
   "source": [
    "a3=a #since the array is copied it will be having same id\n",
    "print(id(a3))"
   ]
  },
  {
   "cell_type": "code",
   "execution_count": 11,
   "id": "1e9764ce-14be-4875-b236-f4ad0e5bf451",
   "metadata": {},
   "outputs": [],
   "source": [
    "d=np.array({\"a\":1,\"b\":2})"
   ]
  },
  {
   "cell_type": "code",
   "execution_count": 13,
   "id": "6ce23bfd-57c1-42fd-a2ce-07981a23be9f",
   "metadata": {},
   "outputs": [
    {
     "data": {
      "text/plain": [
       "(numpy.ndarray, array({'a': 1, 'b': 2}, dtype=object))"
      ]
     },
     "execution_count": 13,
     "metadata": {},
     "output_type": "execute_result"
    }
   ],
   "source": [
    "type(d),d"
   ]
  },
  {
   "cell_type": "code",
   "execution_count": 28,
   "id": "9be3f4c2-0fc6-498e-bbd5-209f41fb5753",
   "metadata": {},
   "outputs": [
    {
     "data": {
      "text/plain": [
       "[1, 3, 5, 7, 9]"
      ]
     },
     "execution_count": 28,
     "metadata": {},
     "output_type": "execute_result"
    }
   ],
   "source": [
    "l=[i for i in range(10)]\n",
    "b=np.arange(10)\n",
    "[i for i in np.arange(1,10,2)]"
   ]
  },
  {
   "cell_type": "code",
   "execution_count": 29,
   "id": "67577814-2027-4c84-986b-2163f4c0f092",
   "metadata": {},
   "outputs": [
    {
     "data": {
      "text/plain": [
       "10"
      ]
     },
     "execution_count": 29,
     "metadata": {},
     "output_type": "execute_result"
    }
   ],
   "source": [
    "len(l)\n",
    "b.size"
   ]
  },
  {
   "cell_type": "code",
   "execution_count": 32,
   "id": "3d8c21a8-300b-48ef-be05-eb366459d315",
   "metadata": {},
   "outputs": [
    {
     "data": {
      "text/plain": [
       "array(['1', '3.0', 'hi'], dtype='<U32')"
      ]
     },
     "execution_count": 32,
     "metadata": {},
     "output_type": "execute_result"
    }
   ],
   "source": [
    "np.array([1,3.0,'hi'])"
   ]
  },
  {
   "cell_type": "code",
   "execution_count": 33,
   "id": "4af236e1-0086-4bde-951f-f3ca99c14fec",
   "metadata": {},
   "outputs": [
    {
     "data": {
      "text/plain": [
       "array(['apple', 'banana', 'mango'], dtype='<U6')"
      ]
     },
     "execution_count": 33,
     "metadata": {},
     "output_type": "execute_result"
    }
   ],
   "source": [
    "np.array(['apple','banana','mango'])"
   ]
  },
  {
   "cell_type": "code",
   "execution_count": 113,
   "id": "c03c6d89-4c6e-425b-bc4f-fd63cad66ede",
   "metadata": {},
   "outputs": [
    {
     "data": {
      "text/plain": [
       "(array([ 1.        ,  1.18367347,  1.36734694,  1.55102041,  1.73469388,\n",
       "         1.91836735,  2.10204082,  2.28571429,  2.46938776,  2.65306122,\n",
       "         2.83673469,  3.02040816,  3.20408163,  3.3877551 ,  3.57142857,\n",
       "         3.75510204,  3.93877551,  4.12244898,  4.30612245,  4.48979592,\n",
       "         4.67346939,  4.85714286,  5.04081633,  5.2244898 ,  5.40816327,\n",
       "         5.59183673,  5.7755102 ,  5.95918367,  6.14285714,  6.32653061,\n",
       "         6.51020408,  6.69387755,  6.87755102,  7.06122449,  7.24489796,\n",
       "         7.42857143,  7.6122449 ,  7.79591837,  7.97959184,  8.16326531,\n",
       "         8.34693878,  8.53061224,  8.71428571,  8.89795918,  9.08163265,\n",
       "         9.26530612,  9.44897959,  9.63265306,  9.81632653, 10.        ]),\n",
       " 50)"
      ]
     },
     "execution_count": 113,
     "metadata": {},
     "output_type": "execute_result"
    }
   ],
   "source": [
    "a=np.linspace(1,10)\n",
    "a,len(a)"
   ]
  },
  {
   "cell_type": "code",
   "execution_count": 42,
   "id": "9acedc4e-d93a-41a7-8857-60055c1ee2bb",
   "metadata": {},
   "outputs": [
    {
     "data": {
      "text/plain": [
       "array([ 1.  ,  3.25,  5.5 ,  7.75, 10.  ])"
      ]
     },
     "execution_count": 42,
     "metadata": {},
     "output_type": "execute_result"
    }
   ],
   "source": [
    "np.linspace(1,10,5)"
   ]
  },
  {
   "cell_type": "code",
   "execution_count": 43,
   "id": "974e948c-4e80-475a-8218-de170b479f78",
   "metadata": {},
   "outputs": [
    {
     "data": {
      "text/plain": [
       "(array([0., 0., 0., 0., 0., 0., 0., 0., 0., 0.]),\n",
       " array([1., 1., 1., 1., 1., 1., 1., 1., 1., 1.]))"
      ]
     },
     "execution_count": 43,
     "metadata": {},
     "output_type": "execute_result"
    }
   ],
   "source": [
    "np.zeros(10),np.ones(10)"
   ]
  },
  {
   "cell_type": "code",
   "execution_count": 155,
   "id": "297e7c1a-cc1c-4549-9b31-fdf435dcff9a",
   "metadata": {},
   "outputs": [
    {
     "ename": "AttributeError",
     "evalue": "'list' object has no attribute 'dim'",
     "output_type": "error",
     "traceback": [
      "\u001b[1;31m---------------------------------------------------------------------------\u001b[0m",
      "\u001b[1;31mAttributeError\u001b[0m                            Traceback (most recent call last)",
      "Cell \u001b[1;32mIn[155], line 2\u001b[0m\n\u001b[0;32m      1\u001b[0m li\u001b[38;5;241m=\u001b[39m[[\u001b[38;5;241m1\u001b[39m,\u001b[38;5;241m2\u001b[39m,\u001b[38;5;241m3\u001b[39m],[\u001b[38;5;241m4\u001b[39m,\u001b[38;5;241m5\u001b[39m,\u001b[38;5;241m6\u001b[39m],[\u001b[38;5;241m7\u001b[39m,\u001b[38;5;241m8\u001b[39m,\u001b[38;5;241m9\u001b[39m]]\n\u001b[1;32m----> 2\u001b[0m li[\u001b[38;5;241m0\u001b[39m][\u001b[38;5;241m0\u001b[39m],\u001b[43mli\u001b[49m\u001b[38;5;241;43m.\u001b[39;49m\u001b[43mdim\u001b[49m\n",
      "\u001b[1;31mAttributeError\u001b[0m: 'list' object has no attribute 'dim'"
     ]
    }
   ],
   "source": [
    "li=[[1,2,3],[4,5,6],[7,8,9]]\n",
    "li[0][0]"
   ]
  },
  {
   "cell_type": "code",
   "execution_count": 116,
   "id": "bcb65232-7349-4e59-83ce-1f4cb76d2999",
   "metadata": {},
   "outputs": [
    {
     "data": {
      "text/plain": [
       "2"
      ]
     },
     "execution_count": 116,
     "metadata": {},
     "output_type": "execute_result"
    }
   ],
   "source": [
    "arr=np.array(li)\n",
    "arr.ndim"
   ]
  },
  {
   "cell_type": "code",
   "execution_count": 117,
   "id": "1fd38913-ccae-40cf-8d69-c6f12c5dcc81",
   "metadata": {},
   "outputs": [
    {
     "data": {
      "text/plain": [
       "(3, (2, 2, 3))"
      ]
     },
     "execution_count": 117,
     "metadata": {},
     "output_type": "execute_result"
    }
   ],
   "source": [
    "li=[[[1,2,3],[4,5,6]],[[7,8,9],[1,2,3]]]\n",
    "a=np.array(li)\n",
    "a.ndim,a.shape"
   ]
  },
  {
   "cell_type": "code",
   "execution_count": 58,
   "id": "f2c3b082-8753-4c22-afc3-3810e5f85f47",
   "metadata": {},
   "outputs": [
    {
     "data": {
      "text/plain": [
       "(array([[0., 0., 0.],\n",
       "        [0., 0., 0.]]),\n",
       " array([[0, 0, 0],\n",
       "        [0, 0, 0]]))"
      ]
     },
     "execution_count": 58,
     "metadata": {},
     "output_type": "execute_result"
    }
   ],
   "source": [
    "np.zeros((2,3)),np.zeros((2,3),dtype=int)"
   ]
  },
  {
   "cell_type": "code",
   "execution_count": 158,
   "id": "54049c34-a09f-402c-836a-3715e954f478",
   "metadata": {},
   "outputs": [
    {
     "data": {
      "text/plain": [
       "(array([[1, 2, 3],\n",
       "        [4, 5, 6],\n",
       "        [7, 8, 9]]),\n",
       " array([[1, 2, 3],\n",
       "        [4, 5, 6],\n",
       "        [7, 8, 9]]))"
      ]
     },
     "execution_count": 158,
     "metadata": {},
     "output_type": "execute_result"
    }
   ],
   "source": [
    "a=np.array([1,2,3,4,5,6,7,8,9])\n",
    "a.reshape((3,3)),a.reshape((3,-1))"
   ]
  },
  {
   "cell_type": "code",
   "execution_count": 139,
   "id": "dfd1ef12-1e4b-422a-a16f-cb3c4c927ee7",
   "metadata": {},
   "outputs": [
    {
     "data": {
      "text/plain": [
       "(array([[-1.0856306 ,  0.99734545,  0.2829785 ],\n",
       "        [-1.50629471, -0.57860025,  1.65143654]]),\n",
       " -0.039794181242410076)"
      ]
     },
     "execution_count": 139,
     "metadata": {},
     "output_type": "execute_result"
    }
   ],
   "source": [
    "data=np.random.randn(2,3)\n",
    "data,np.mean(data)"
   ]
  },
  {
   "cell_type": "code",
   "execution_count": 138,
   "id": "3951e88d-ece4-44a8-887c-d52c9fa9cec5",
   "metadata": {},
   "outputs": [
    {
     "name": "stdout",
     "output_type": "stream",
     "text": [
      "0.25343525957539464\n"
     ]
    }
   ],
   "source": [
    "s=0\n",
    "for i in range(0,2):\n",
    "    for j in range(0,3):\n",
    "        s=s+data[i][j]\n",
    "print(s/6)        "
   ]
  },
  {
   "cell_type": "code",
   "execution_count": 67,
   "id": "4c78dd7e-65ae-4439-85cf-97634f8ebab3",
   "metadata": {},
   "outputs": [
    {
     "name": "stdout",
     "output_type": "stream",
     "text": [
      "CPU times: total: 7.23 s\n",
      "Wall time: 10.1 s\n"
     ]
    }
   ],
   "source": [
    "%time for i in range(1000):np.arange(1000000)*2"
   ]
  },
  {
   "cell_type": "code",
   "execution_count": 74,
   "id": "f7720399-4eab-41c3-9451-9264e57771a9",
   "metadata": {},
   "outputs": [
    {
     "name": "stdout",
     "output_type": "stream",
     "text": [
      "CPU times: total: 281 ms\n",
      "Wall time: 716 ms\n"
     ]
    }
   ],
   "source": [
    "%time for i in range(1000):list(range(10000))*2"
   ]
  },
  {
   "cell_type": "code",
   "execution_count": 162,
   "id": "e270dda6-54f0-458b-ae3e-385c75706701",
   "metadata": {},
   "outputs": [
    {
     "data": {
      "text/plain": [
       "array([1, 2, 3, 4, 5, 6, 7])"
      ]
     },
     "execution_count": 162,
     "metadata": {},
     "output_type": "execute_result"
    }
   ],
   "source": [
    "a=np.array([1,2,3,4,5,6])\n",
    "a=np.append(a,7)\n",
    "a\n"
   ]
  },
  {
   "cell_type": "code",
   "execution_count": 91,
   "id": "bccec4e5-8586-4c9f-b373-0cc80f1351a7",
   "metadata": {},
   "outputs": [
    {
     "data": {
      "text/plain": [
       "array([[1, 2],\n",
       "       [3, 4],\n",
       "       [5, 6]])"
      ]
     },
     "execution_count": 91,
     "metadata": {},
     "output_type": "execute_result"
    }
   ],
   "source": [
    "a=np.array([[1,2],[3,4]])\n",
    "a=np.append(a,[[5,6]],axis=0)\n",
    "a"
   ]
  },
  {
   "cell_type": "code",
   "execution_count": 93,
   "id": "5d792afb-23f7-4acb-8769-fff5dae959bc",
   "metadata": {},
   "outputs": [
    {
     "data": {
      "text/plain": [
       "array([[1, 2, 7],\n",
       "       [3, 4, 8],\n",
       "       [5, 6, 9]])"
      ]
     },
     "execution_count": 93,
     "metadata": {},
     "output_type": "execute_result"
    }
   ],
   "source": [
    "a=np.append(a,[[7],[8],[9]],axis=1)\n",
    "a"
   ]
  },
  {
   "cell_type": "code",
   "execution_count": 96,
   "id": "618bd8a3-b7ee-4150-8bde-4f023baccce3",
   "metadata": {},
   "outputs": [
    {
     "data": {
      "text/plain": [
       "(array([[2, 7],\n",
       "        [4, 8],\n",
       "        [6, 9]]),\n",
       " array([[3, 4, 8],\n",
       "        [5, 6, 9]]))"
      ]
     },
     "execution_count": 96,
     "metadata": {},
     "output_type": "execute_result"
    }
   ],
   "source": [
    "np.delete(a,0,axis=1),np.delete(a,0,axis=0)"
   ]
  },
  {
   "cell_type": "code",
   "execution_count": 97,
   "id": "576d21fc-249a-4d05-84a8-a16529c8c397",
   "metadata": {},
   "outputs": [
    {
     "data": {
      "text/plain": [
       "[1, 2, 3, 4, 5, 6]"
      ]
     },
     "execution_count": 97,
     "metadata": {},
     "output_type": "execute_result"
    }
   ],
   "source": [
    "a=[1,2,3]\n",
    "b=[4,5,6]\n",
    "a+b"
   ]
  },
  {
   "cell_type": "code",
   "execution_count": 100,
   "id": "fd120c7d-d627-401f-a283-d38c529f02f9",
   "metadata": {},
   "outputs": [
    {
     "data": {
      "text/plain": [
       "(array([5, 7, 9]),\n",
       " array([-3, -3, -3]),\n",
       " array([ 4, 10, 18]),\n",
       " array([0.25, 0.4 , 0.5 ]))"
      ]
     },
     "execution_count": 100,
     "metadata": {},
     "output_type": "execute_result"
    }
   ],
   "source": [
    "a=np.array([1,2,3])\n",
    "b=np.array([4,5,6])\n",
    "a+b,a-b,a*b,a/b\n"
   ]
  },
  {
   "cell_type": "code",
   "execution_count": 101,
   "id": "4c866cbb-b842-470d-ae5f-c535c73b14b7",
   "metadata": {},
   "outputs": [
    {
     "name": "stdout",
     "output_type": "stream",
     "text": [
      "1\n",
      "3\n",
      "(3,)\n"
     ]
    }
   ],
   "source": [
    "print(a.ndim)\n",
    "print(a.size)\n",
    "print(a.shape)\n"
   ]
  },
  {
   "cell_type": "code",
   "execution_count": 106,
   "id": "89ee3528-dfc1-43c3-9e30-d97218ae4fe6",
   "metadata": {},
   "outputs": [
    {
     "data": {
      "text/plain": [
       "([1, 2, 3, 1, 2, 3, 1, 2, 3],\n",
       " array([1, 2, 3, 1, 2, 3, 1, 2, 3]),\n",
       " array([3, 6, 9]),\n",
       " array([1, 1, 1, 2, 2, 2, 3, 3, 3]))"
      ]
     },
     "execution_count": 106,
     "metadata": {},
     "output_type": "execute_result"
    }
   ],
   "source": [
    "b=[1,2,3]\n",
    "3*b,np.tile(a,3),3*a,np.repeat(a,3)"
   ]
  },
  {
   "cell_type": "code",
   "execution_count": 120,
   "id": "622f8f49-efda-428a-b71e-78cedb508c30",
   "metadata": {},
   "outputs": [
    {
     "data": {
      "text/plain": [
       "(array([[0, 1, 2, 0, 1, 2],\n",
       "        [3, 4, 5, 3, 4, 5],\n",
       "        [6, 7, 8, 6, 7, 8]]),\n",
       " array([[ 0,  1,  4],\n",
       "        [ 9, 16, 25],\n",
       "        [36, 49, 64]]))"
      ]
     },
     "execution_count": 120,
     "metadata": {},
     "output_type": "execute_result"
    }
   ],
   "source": [
    "c=np.arange(9)\n",
    "c=c.reshape(3,3)\n",
    "np.tile(c,2),c**2"
   ]
  },
  {
   "cell_type": "code",
   "execution_count": 121,
   "id": "9cfb35fc-81c7-4163-a034-4b8b92682a7b",
   "metadata": {},
   "outputs": [
    {
     "data": {
      "text/plain": [
       "array([False,  True, False,  True])"
      ]
     },
     "execution_count": 121,
     "metadata": {},
     "output_type": "execute_result"
    }
   ],
   "source": [
    "a=np.array([1,2,3,4])\n",
    "a%2==0"
   ]
  },
  {
   "cell_type": "code",
   "execution_count": 127,
   "id": "2aba5594-e116-4473-94e3-f68d94d2b2e2",
   "metadata": {},
   "outputs": [
    {
     "data": {
      "text/plain": [
       "(array([ 1,  8, 27, 64], dtype=int32),\n",
       " array([1.        , 1.41421356, 1.73205081, 2.        ]),\n",
       " array([1.        , 1.41421356, 1.73205081, 2.        ]))"
      ]
     },
     "execution_count": 127,
     "metadata": {},
     "output_type": "execute_result"
    }
   ],
   "source": [
    "a**3,np.sqrt(a),np.power(a,0.5)"
   ]
  },
  {
   "cell_type": "code",
   "execution_count": 130,
   "id": "b574170d-933b-4931-8a46-c529a8768799",
   "metadata": {},
   "outputs": [
    {
     "data": {
      "text/plain": [
       "(55,\n",
       " 5.5,\n",
       " 8.25,\n",
       " 2.8722813232690143,\n",
       " array([ 1,  3,  6, 10, 15, 21, 28, 36, 45, 55]))"
      ]
     },
     "execution_count": 130,
     "metadata": {},
     "output_type": "execute_result"
    }
   ],
   "source": [
    "x=np.arange(1,11)\n",
    "x.sum(),x.mean(),x.var(),x.std(),x.cumsum()"
   ]
  },
  {
   "cell_type": "code",
   "execution_count": 133,
   "id": "0d79fd47-27f5-4dab-9371-53507dfa01eb",
   "metadata": {},
   "outputs": [
    {
     "data": {
      "text/plain": [
       "(array([[ 1,  2,  3,  4,  5],\n",
       "        [ 6,  7,  8,  9, 10]]),\n",
       " array([[ 1,  2],\n",
       "        [ 3,  4],\n",
       "        [ 5,  6],\n",
       "        [ 7,  8],\n",
       "        [ 9, 10]]))"
      ]
     },
     "execution_count": 133,
     "metadata": {},
     "output_type": "execute_result"
    }
   ],
   "source": [
    "x.reshape(2,-1),x.reshape(5,-1)"
   ]
  },
  {
   "cell_type": "code",
   "execution_count": 164,
   "id": "bc34c822-b065-405c-8b22-3cf7e9c97bb1",
   "metadata": {},
   "outputs": [
    {
     "data": {
      "text/plain": [
       "(array([3.5, 4.5, 5.5, 6.5, 7.5]),\n",
       " array([3.5, 4.5, 5.5, 6.5, 7.5]),\n",
       " 2.0,\n",
       " array([ 1,  2,  3,  4,  5,  6,  7,  8,  9, 10]),\n",
       " 8.0,\n",
       " 8.0,\n",
       " 9.0,\n",
       " 8.0,\n",
       " 10,\n",
       " 1)"
      ]
     },
     "execution_count": 164,
     "metadata": {},
     "output_type": "execute_result"
    }
   ],
   "source": [
    "x=x.reshape(2,-1)\n",
    "a=np.array([1,2,3])\n",
    "np.mean(x,axis=0),x.mean(axis=0),a.mean(axis=0),np.unique(x),np.round(8.2),np.floor(8.2),np.ceil(8.2),np.trunc(8.2),np.max(x),np.min(x)"
   ]
  },
  {
   "cell_type": "code",
   "execution_count": 160,
   "id": "6b6b8e0a-248c-4c45-bd2e-904549c773dd",
   "metadata": {},
   "outputs": [
    {
     "data": {
      "text/plain": [
       "(None, array([3, 3, 7]))"
      ]
     },
     "execution_count": 160,
     "metadata": {},
     "output_type": "execute_result"
    }
   ],
   "source": [
    "np.random.seed(123),np.random.randint(1,11,3)"
   ]
  },
  {
   "cell_type": "code",
   "execution_count": null,
   "id": "b21812c7-3ada-48a6-8a18-2be9cc9186a0",
   "metadata": {},
   "outputs": [],
   "source": []
  }
 ],
 "metadata": {
  "kernelspec": {
   "display_name": "Python 3 (ipykernel)",
   "language": "python",
   "name": "python3"
  },
  "language_info": {
   "codemirror_mode": {
    "name": "ipython",
    "version": 3
   },
   "file_extension": ".py",
   "mimetype": "text/x-python",
   "name": "python",
   "nbconvert_exporter": "python",
   "pygments_lexer": "ipython3",
   "version": "3.12.4"
  }
 },
 "nbformat": 4,
 "nbformat_minor": 5
}
