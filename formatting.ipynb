{
 "cells": [
  {
   "cell_type": "code",
   "execution_count": 4,
   "id": "7ba680cd-5074-454f-a8d3-cd117e1834cc",
   "metadata": {},
   "outputs": [
    {
     "name": "stdout",
     "output_type": "stream",
     "text": [
      "a\n"
     ]
    }
   ],
   "source": [
    "print('{}'.format('a'))"
   ]
  },
  {
   "cell_type": "code",
   "execution_count": 7,
   "id": "35be84ca-89bf-4264-be34-76d05e880519",
   "metadata": {},
   "outputs": [
    {
     "name": "stdout",
     "output_type": "stream",
     "text": [
      "string is 123\n"
     ]
    }
   ],
   "source": [
    "a=123\n",
    "print('string is {}'.format(a))"
   ]
  },
  {
   "cell_type": "code",
   "execution_count": 11,
   "id": "e8ed2bff-f771-4325-9081-23483ef093f7",
   "metadata": {},
   "outputs": [
    {
     "name": "stdout",
     "output_type": "stream",
     "text": [
      "string is 123\n"
     ]
    }
   ],
   "source": [
    "a=123\n",
    "print(f'string is {a}')"
   ]
  },
  {
   "cell_type": "code",
   "execution_count": null,
   "id": "13b477a9-4f26-4053-949b-cdc283fdc0b3",
   "metadata": {},
   "outputs": [],
   "source": []
  }
 ],
 "metadata": {
  "kernelspec": {
   "display_name": "Python 3 (ipykernel)",
   "language": "python",
   "name": "python3"
  },
  "language_info": {
   "codemirror_mode": {
    "name": "ipython",
    "version": 3
   },
   "file_extension": ".py",
   "mimetype": "text/x-python",
   "name": "python",
   "nbconvert_exporter": "python",
   "pygments_lexer": "ipython3",
   "version": "3.12.4"
  }
 },
 "nbformat": 4,
 "nbformat_minor": 5
}
