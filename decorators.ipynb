{
 "cells": [
  {
   "cell_type": "markdown",
   "id": "c5dbefd1-7e61-40a4-b7bc-452f6e840f3c",
   "metadata": {},
   "source": [
    "function decorators"
   ]
  },
  {
   "cell_type": "code",
   "execution_count": 92,
   "id": "70eee66d-5e51-4877-a04e-31200850cdcf",
   "metadata": {},
   "outputs": [
    {
     "name": "stdout",
     "output_type": "stream",
     "text": [
      "Something before the function runs\n",
      "Hello!\n",
      "Something after the function runs\n"
     ]
    }
   ],
   "source": [
    "def my_decorator(func):\n",
    "    def wrapper():\n",
    "        print(\"Something before the function runs\")\n",
    "        func()  # Call the original function\n",
    "        print(\"Something after the function runs\")\n",
    "    return wrapper\n",
    "\n",
    "@my_decorator\n",
    "def say_hello():\n",
    "    print(\"Hello!\")\n",
    "\n",
    "say_hello()"
   ]
  },
  {
   "cell_type": "code",
   "execution_count": 21,
   "id": "71fcecf5-809a-440e-a20c-842a3a4bec7d",
   "metadata": {},
   "outputs": [
    {
     "name": "stdout",
     "output_type": "stream",
     "text": [
      "2.0\n"
     ]
    }
   ],
   "source": [
    "  \n",
    "\n",
    "def swap(func):\n",
    "    def wrapper(a,b):\n",
    "        if(b>a):\n",
    "            temp=a\n",
    "            a=b\n",
    "            b=temp\n",
    "        func(a,b)\n",
    "    return wrapper\n",
    "@swap\n",
    "def div(a,b):\n",
    "    print(a/b)\n",
    "div(1,2)\n"
   ]
  },
  {
   "cell_type": "code",
   "execution_count": 93,
   "id": "1639f042-7180-4189-8bdc-d81fb55537b2",
   "metadata": {},
   "outputs": [
    {
     "name": "stdin",
     "output_type": "stream",
     "text": [
      "enter 1st no 10\n",
      "enter 2nd no 20\n"
     ]
    },
    {
     "name": "stdout",
     "output_type": "stream",
     "text": [
      "0.5\n"
     ]
    }
   ],
   "source": [
    "def deco(func):\n",
    "    def merger(a,b):\n",
    "        if b==0:\n",
    "            print(\"div by zero error\")\n",
    "        else:\n",
    "            func(a,b)\n",
    "    return merger\n",
    "a=int(input(\"enter 1st no\"))\n",
    "b=int(input(\"enter 2nd no\"))\n",
    "@deco\n",
    "\n",
    "            \n",
    "def div(a,b):\n",
    "    print(a/b)\n",
    "div(a,b) "
   ]
  },
  {
   "cell_type": "code",
   "execution_count": null,
   "id": "20a2dfe6-040b-47ec-9877-fdbe298b17bf",
   "metadata": {},
   "outputs": [],
   "source": [
    "Arguement decorators"
   ]
  },
  {
   "cell_type": "code",
   "execution_count": 29,
   "id": "379197dc-34bc-4b0f-bd45-99d307a9459a",
   "metadata": {},
   "outputs": [
    {
     "name": "stdout",
     "output_type": "stream",
     "text": [
      "Decorator argument: Python\n",
      "Hello, World!\n"
     ]
    }
   ],
   "source": [
    "def decorator_with_args(arg):\n",
    "    def my_decorator(func):\n",
    "        def wrapper(*args, **kwargs):\n",
    "            print(f\"Decorator argument: {arg}\")\n",
    "            return func(*args, **kwargs)\n",
    "        return wrapper\n",
    "    return my_decorator\n",
    "\n",
    "@decorator_with_args(\"Python\")\n",
    "def greet(name):\n",
    "    print(f\"Hello, {name}!\")\n",
    "\n",
    "greet(\"World\")"
   ]
  },
  {
   "cell_type": "code",
   "execution_count": 50,
   "id": "54abaa27-f255-42d3-ba18-32092579b51d",
   "metadata": {},
   "outputs": [
    {
     "name": "stdout",
     "output_type": "stream",
     "text": [
      "Decorator argument: Python\n",
      "Hello, World!\n"
     ]
    }
   ],
   "source": [
    "def decorator_with_args(arg):\n",
    "    def actual_decorator(func):\n",
    "        def wrapper(*args):\n",
    "            print(f\"Decorator argument: {arg}\")\n",
    "            func(*args)\n",
    "        return wrapper    \n",
    "    return actual_decorator\n",
    "  \n",
    "\n",
    "@decorator_with_args(\"Python\")\n",
    "def greet(name):\n",
    "    print(f\"Hello, {name}!\")\n",
    "\n",
    "greet(\"World\")\n",
    "\n",
    "\n"
   ]
  },
  {
   "cell_type": "code",
   "execution_count": 94,
   "id": "35c35345-cf8b-43eb-9c11-b6045e41be38",
   "metadata": {},
   "outputs": [
    {
     "name": "stdout",
     "output_type": "stream",
     "text": [
      "good morning\n",
      "first name=  abc\n",
      "last name=  xyz\n"
     ]
    }
   ],
   "source": [
    "def outer(arg):\n",
    "    def deco(func):\n",
    "        def wrapper(*args):\n",
    "            for a in arg:\n",
    "                print(a,end='')\n",
    "            func(*args)\n",
    "        return wrapper\n",
    "    return deco\n",
    "@outer(\"good morning\")    \n",
    "            \n",
    "                \n",
    "def name(*args):\n",
    "    first=args[0]\n",
    "    last=args[1]\n",
    "    print(\"\\nfirst name= \",first)\n",
    "    print(\"last name= \",last)\n",
    "name(\"abc\",\"xyz\")   "
   ]
  },
  {
   "cell_type": "code",
   "execution_count": null,
   "id": "b8cbb5f4-3b5a-4fd4-a49d-9bbaed2698b8",
   "metadata": {},
   "outputs": [],
   "source": [
    "Method decorators"
   ]
  },
  {
   "cell_type": "code",
   "execution_count": 47,
   "id": "b6f65633-ef06-48a3-8224-bfa1e50674a0",
   "metadata": {},
   "outputs": [
    {
     "name": "stdout",
     "output_type": "stream",
     "text": [
      "Calling method my_method\n",
      "Method executed\n"
     ]
    }
   ],
   "source": [
    "def log_method_call(func):\n",
    "    def wrapper(self, *args):\n",
    "        print(f\"Calling method {func.__name__}\")\n",
    "        func(self, *args)\n",
    "    return wrapper\n",
    "\n",
    "class MyClass:\n",
    "    @log_method_call\n",
    "    def my_method(self):\n",
    "        print(\"Method executed\")\n",
    "\n",
    "obj = MyClass()\n",
    "obj.my_method()"
   ]
  },
  {
   "cell_type": "code",
   "execution_count": 95,
   "id": "3eb99f43-830b-455a-8d05-d4391e7474c9",
   "metadata": {},
   "outputs": [
    {
     "name": "stdout",
     "output_type": "stream",
     "text": [
      "1.5\n"
     ]
    }
   ],
   "source": [
    "def deco(func):\n",
    "    def merger(self,a,b):\n",
    "        if b>a:\n",
    "            a,b=b,a\n",
    "        func(self,a,b)\n",
    "    return merger\n",
    "class division:\n",
    "    @deco\n",
    "    def div(self,a,b):\n",
    "        print(a/b)\n",
    "d=division()\n",
    "d.div(2,3)\n",
    "        "
   ]
  },
  {
   "cell_type": "code",
   "execution_count": null,
   "id": "72128342-1969-44d6-8a56-9e8ca2774b3e",
   "metadata": {},
   "outputs": [],
   "source": [
    "Class decorators"
   ]
  },
  {
   "cell_type": "code",
   "execution_count": 51,
   "id": "6709f8b7-b9df-4dd1-87c2-c69ff2f4a146",
   "metadata": {},
   "outputs": [
    {
     "name": "stdout",
     "output_type": "stream",
     "text": [
      "Original method\n",
      "New method added!\n"
     ]
    }
   ],
   "source": [
    "def add_method(cls):\n",
    "    cls.new_method = lambda self: print(\"New method added!\")\n",
    "    return cls\n",
    "\n",
    "@add_method\n",
    "class MyClass:\n",
    "    def original_method(self):\n",
    "        print(\"Original method\")\n",
    "\n",
    "obj = MyClass()\n",
    "obj.original_method()  # Output: Original method\n",
    "obj.new_method()       # Output: New method added!\n"
   ]
  },
  {
   "cell_type": "code",
   "execution_count": 90,
   "id": "c4d37dc0-2624-437b-b8ad-1438b284f59d",
   "metadata": {},
   "outputs": [
    {
     "name": "stdout",
     "output_type": "stream",
     "text": [
      "Original method\n",
      "New method added!\n"
     ]
    }
   ],
   "source": [
    "def add_method(cls):\n",
    "    cls.new_method = lambda self: print(\"New method added!\")\n",
    "    return cls\n",
    "\n",
    "@add_method\n",
    "class cls:\n",
    "    def original_method(self):\n",
    "        print(\"Original method\")\n",
    "\n",
    "obj = cls()\n",
    "obj.original_method()  # Output: Original method\n",
    "obj.new_method()       # Output: New method added!"
   ]
  },
  {
   "cell_type": "raw",
   "id": "2d616001-c569-4690-8516-53b34419b537",
   "metadata": {},
   "source": [
    "\n"
   ]
  },
  {
   "cell_type": "markdown",
   "id": "21ebe7d9-1d5e-4550-bfd8-48d0981fbac2",
   "metadata": {},
   "source": [
    "\n"
   ]
  },
  {
   "cell_type": "code",
   "execution_count": null,
   "id": "0b092462-f551-46f6-9e93-59df80d848f7",
   "metadata": {},
   "outputs": [],
   "source": []
  },
  {
   "cell_type": "code",
   "execution_count": null,
   "id": "661e13c8-f658-46b0-b712-694e678c5ccf",
   "metadata": {},
   "outputs": [],
   "source": []
  }
 ],
 "metadata": {
  "kernelspec": {
   "display_name": "Python 3 (ipykernel)",
   "language": "python",
   "name": "python3"
  },
  "language_info": {
   "codemirror_mode": {
    "name": "ipython",
    "version": 3
   },
   "file_extension": ".py",
   "mimetype": "text/x-python",
   "name": "python",
   "nbconvert_exporter": "python",
   "pygments_lexer": "ipython3",
   "version": "3.12.7"
  }
 },
 "nbformat": 4,
 "nbformat_minor": 5
}
