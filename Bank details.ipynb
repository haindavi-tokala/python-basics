{
 "cells": [
  {
   "cell_type": "code",
   "execution_count": 4,
   "id": "78bf1ddf-5d3e-4adc-a0a4-4376b45bd2dd",
   "metadata": {},
   "outputs": [
    {
     "name": "stdout",
     "output_type": "stream",
     "text": [
      "123 abc 100\n",
      "1.withdrwal 2.deposit\n"
     ]
    },
    {
     "name": "stdin",
     "output_type": "stream",
     "text": [
      " 2\n"
     ]
    },
    {
     "name": "stdout",
     "output_type": "stream",
     "text": [
      "enter amt\n"
     ]
    },
    {
     "name": "stdin",
     "output_type": "stream",
     "text": [
      "None 10\n"
     ]
    },
    {
     "name": "stdout",
     "output_type": "stream",
     "text": [
      "balance  110\n"
     ]
    }
   ],
   "source": [
    "class bank_acc:\n",
    "    accno=0\n",
    "    accname=''\n",
    "    bal=0\n",
    "    opt=-1\n",
    "    \n",
    "    def __init__(self,accno,accname,bal):\n",
    "        bank_acc.accno=accno\n",
    "        bank_acc.accname=accname\n",
    "        bank_acc.bal=bal\n",
    "        \n",
    "    def display(self):\n",
    "        print(bank_acc.accno, bank_acc.accname, bank_acc.bal)\n",
    "        print(\"1.withdrwal 2.deposit\")\n",
    "        bank_acc.opt=input()\n",
    "        self.functi(bank_acc.opt)\n",
    "        \n",
    "    def functi(self,opt):\n",
    "        \n",
    "        if bank_acc.opt=='1':\n",
    "            print(\"enter amt\")\n",
    "            amt=int(input())\n",
    "            bank_acc.bal=bank_acc.bal-amt\n",
    "            print(\"balance \",bank_acc.bal)\n",
    "        elif bank_acc.opt=='2':\n",
    "            amt=int(input(print(\"enter amt\")))\n",
    "            bank_acc.bal=bank_acc.bal+amt\n",
    "            print(\"balance \",bank_acc.bal)\n",
    "class newacc(bank_acc):\n",
    "    def __init__(self,accno,accname,bal):\n",
    "        super().__init__(accno,accname,bal)\n",
    "        self.display()\n",
    "    \n",
    "            \n",
    "b=newacc(123,'abc',100)   \n",
    "\n",
    "\n",
    "            "
   ]
  },
  {
   "cell_type": "code",
   "execution_count": null,
   "id": "1b243493-2754-4865-b22b-6b1ce6e1fa60",
   "metadata": {},
   "outputs": [],
   "source": []
  }
 ],
 "metadata": {
  "kernelspec": {
   "display_name": "Python 3 (ipykernel)",
   "language": "python",
   "name": "python3"
  },
  "language_info": {
   "codemirror_mode": {
    "name": "ipython",
    "version": 3
   },
   "file_extension": ".py",
   "mimetype": "text/x-python",
   "name": "python",
   "nbconvert_exporter": "python",
   "pygments_lexer": "ipython3",
   "version": "3.12.4"
  }
 },
 "nbformat": 4,
 "nbformat_minor": 5
}
