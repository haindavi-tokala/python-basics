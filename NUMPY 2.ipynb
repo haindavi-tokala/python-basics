{
 "cells": [
  {
   "cell_type": "code",
   "execution_count": 3,
   "id": "a05b3ee2-8c30-4854-8c1c-5501e9a33b60",
   "metadata": {},
   "outputs": [
    {
     "data": {
      "text/plain": [
       "(array([[1, 2],\n",
       "        [3, 4]]),\n",
       " array([[3, 2],\n",
       "        [0, 1]]))"
      ]
     },
     "execution_count": 3,
     "metadata": {},
     "output_type": "execute_result"
    }
   ],
   "source": [
    "import numpy as np\n",
    "a=np.array([1,2,3,4]).reshape(2,2)\n",
    "b=np.array([3,2,0,1]).reshape(2,2)\n",
    "a,b"
   ]
  },
  {
   "cell_type": "code",
   "execution_count": 4,
   "id": "dcfacda1-1f74-47c2-af7d-9086d184c331",
   "metadata": {},
   "outputs": [
    {
     "data": {
      "text/plain": [
       "(array([[ 3,  4],\n",
       "        [ 9, 10]]),\n",
       " array([[ 3,  4],\n",
       "        [ 9, 10]]))"
      ]
     },
     "execution_count": 4,
     "metadata": {},
     "output_type": "execute_result"
    }
   ],
   "source": [
    "a.dot(b),np.dot(a,b)"
   ]
  },
  {
   "cell_type": "code",
   "execution_count": 7,
   "id": "96d843d8-f2dc-47c7-96f4-2d3ddf286e2e",
   "metadata": {},
   "outputs": [
    {
     "data": {
      "text/plain": [
       "(array([[1, 3],\n",
       "        [2, 4]]),\n",
       " array([[1, 3],\n",
       "        [2, 4]]))"
      ]
     },
     "execution_count": 7,
     "metadata": {},
     "output_type": "execute_result"
    }
   ],
   "source": [
    "np.transpose(a),a.transpose()"
   ]
  },
  {
   "cell_type": "code",
   "execution_count": 10,
   "id": "015591a5-2038-4c68-8559-0177bd9e5713",
   "metadata": {},
   "outputs": [
    {
     "data": {
      "text/plain": [
       "(array([[-2. ,  1. ],\n",
       "        [ 1.5, -0.5]]),\n",
       " -2.0000000000000004)"
      ]
     },
     "execution_count": 10,
     "metadata": {},
     "output_type": "execute_result"
    }
   ],
   "source": [
    "np.linalg.inv(a),np.linalg.det(a)"
   ]
  },
  {
   "cell_type": "code",
   "execution_count": 11,
   "id": "0ce3ad92-3a58-486c-8991-f7b7b3b42427",
   "metadata": {},
   "outputs": [],
   "source": [
    "a=np.array([0,1,2,3])\n",
    "b=np.array([[0,1,2,3],[4,5,6,7],[8,9,10,11]])"
   ]
  },
  {
   "cell_type": "code",
   "execution_count": 12,
   "id": "6465d40c-9960-4d52-8a8c-b40c0838596c",
   "metadata": {},
   "outputs": [
    {
     "data": {
      "text/plain": [
       "(array([0, 1, 2, 3]), 1)"
      ]
     },
     "execution_count": 12,
     "metadata": {},
     "output_type": "execute_result"
    }
   ],
   "source": [
    "b[0],b[0][1]"
   ]
  },
  {
   "cell_type": "code",
   "execution_count": 14,
   "id": "ac157150-4ae5-476c-bbb8-e2ee327006b6",
   "metadata": {},
   "outputs": [
    {
     "data": {
      "text/plain": [
       "array([[10, 20, 30],\n",
       "       [40, 50, 60],\n",
       "       [70, 80, 90]])"
      ]
     },
     "execution_count": 14,
     "metadata": {},
     "output_type": "execute_result"
    }
   ],
   "source": [
    "a=np.arange(10,100,10).reshape(3,3)\n",
    "a"
   ]
  },
  {
   "cell_type": "code",
   "execution_count": 15,
   "id": "15f6322b-12b6-42a9-8dac-132ef81061f7",
   "metadata": {},
   "outputs": [
    {
     "data": {
      "text/plain": [
       "90"
      ]
     },
     "execution_count": 15,
     "metadata": {},
     "output_type": "execute_result"
    }
   ],
   "source": [
    "a[2][2]"
   ]
  },
  {
   "cell_type": "code",
   "execution_count": 17,
   "id": "872c2ba8-0ec2-4ab9-a60d-3c41a06c48fa",
   "metadata": {},
   "outputs": [
    {
     "data": {
      "text/plain": [
       "array([[10, 20, 30],\n",
       "       [40, 50, 60],\n",
       "       [70, 80,  0]])"
      ]
     },
     "execution_count": 17,
     "metadata": {},
     "output_type": "execute_result"
    }
   ],
   "source": [
    "a[2,2]=0\n",
    "a"
   ]
  },
  {
   "cell_type": "code",
   "execution_count": 18,
   "id": "66a6ee43-4944-4f7f-9377-e6f03179202a",
   "metadata": {},
   "outputs": [
    {
     "data": {
      "text/plain": [
       "array([[10, 20, 30],\n",
       "       [40,  0, 60],\n",
       "       [70, 80,  0]])"
      ]
     },
     "execution_count": 18,
     "metadata": {},
     "output_type": "execute_result"
    }
   ],
   "source": [
    "a[1][1]=0\n",
    "a"
   ]
  },
  {
   "cell_type": "code",
   "execution_count": 19,
   "id": "d7e14225-b6b8-40a4-b201-cd6fd1c06388",
   "metadata": {},
   "outputs": [
    {
     "data": {
      "text/plain": [
       "array([[10, 20, 30],\n",
       "       [40,  0, 60],\n",
       "       [ 1,  2,  3]])"
      ]
     },
     "execution_count": 19,
     "metadata": {},
     "output_type": "execute_result"
    }
   ],
   "source": [
    "a[2]=np.array([1,2,3])\n",
    "a"
   ]
  },
  {
   "cell_type": "code",
   "execution_count": 21,
   "id": "0ea17cfe-b5db-4b48-8bbf-e7735126fbeb",
   "metadata": {},
   "outputs": [
    {
     "data": {
      "text/plain": [
       "array([10,  2])"
      ]
     },
     "execution_count": 21,
     "metadata": {},
     "output_type": "execute_result"
    }
   ],
   "source": [
    "a[[0,2],[0,1]]"
   ]
  },
  {
   "cell_type": "code",
   "execution_count": 22,
   "id": "cebd49cf-4a45-4037-b08a-848e0cbc7f82",
   "metadata": {},
   "outputs": [
    {
     "data": {
      "text/plain": [
       "array([10, 20, 30, 40, 60])"
      ]
     },
     "execution_count": 22,
     "metadata": {},
     "output_type": "execute_result"
    }
   ],
   "source": [
    "a[a>3]"
   ]
  },
  {
   "cell_type": "code",
   "execution_count": 23,
   "id": "e9a3f829-8e03-41a8-b172-8de21ea67ba4",
   "metadata": {},
   "outputs": [
    {
     "data": {
      "text/plain": [
       "array([10, 20, 30, 40,  0, 60,  2])"
      ]
     },
     "execution_count": 23,
     "metadata": {},
     "output_type": "execute_result"
    }
   ],
   "source": [
    "a[a%2==0]"
   ]
  },
  {
   "cell_type": "code",
   "execution_count": 30,
   "id": "2a67d336-b001-4f7d-bde5-7d43d860eb5c",
   "metadata": {},
   "outputs": [],
   "source": [
    "a=np.empty((8,4))"
   ]
  },
  {
   "cell_type": "code",
   "execution_count": 32,
   "id": "0a173819-a558-4bba-b64d-4ccc17d0d76d",
   "metadata": {},
   "outputs": [
    {
     "data": {
      "text/plain": [
       "array([[0., 0., 0., 0.],\n",
       "       [1., 1., 1., 1.],\n",
       "       [2., 2., 2., 2.],\n",
       "       [3., 3., 3., 3.],\n",
       "       [4., 4., 4., 4.],\n",
       "       [5., 5., 5., 5.],\n",
       "       [6., 6., 6., 6.],\n",
       "       [7., 7., 7., 7.]])"
      ]
     },
     "execution_count": 32,
     "metadata": {},
     "output_type": "execute_result"
    }
   ],
   "source": [
    "for i in range(8):\n",
    "    a[i]=i\n",
    "a    "
   ]
  },
  {
   "cell_type": "code",
   "execution_count": 33,
   "id": "9701f950-80a7-403b-8bec-b1d47a21608b",
   "metadata": {},
   "outputs": [
    {
     "data": {
      "text/plain": [
       "array([[4., 4., 4., 4.],\n",
       "       [3., 3., 3., 3.],\n",
       "       [0., 0., 0., 0.],\n",
       "       [6., 6., 6., 6.]])"
      ]
     },
     "execution_count": 33,
     "metadata": {},
     "output_type": "execute_result"
    }
   ],
   "source": [
    "a[[4,3,0,6]]"
   ]
  },
  {
   "cell_type": "code",
   "execution_count": 34,
   "id": "3bf74781-4694-436b-a1ae-46b2b0a1ec95",
   "metadata": {},
   "outputs": [
    {
     "data": {
      "text/plain": [
       "array([[5., 5., 5., 5.],\n",
       "       [3., 3., 3., 3.]])"
      ]
     },
     "execution_count": 34,
     "metadata": {},
     "output_type": "execute_result"
    }
   ],
   "source": [
    "a[[-3,-5]]"
   ]
  },
  {
   "cell_type": "code",
   "execution_count": 36,
   "id": "1fea5d0e-9639-4f0f-8eb1-897726c505c1",
   "metadata": {},
   "outputs": [
    {
     "data": {
      "text/plain": [
       "(array([ 0,  5, 10, 15]),\n",
       " array([ True, False, False, False, False,  True, False, False, False,\n",
       "        False,  True, False, False, False, False,  True, False, False,\n",
       "        False, False]))"
      ]
     },
     "execution_count": 36,
     "metadata": {},
     "output_type": "execute_result"
    }
   ],
   "source": [
    "a2=np.arange(20)\n",
    "amask=(a2%5==0)\n",
    "a2[amask],amask"
   ]
  },
  {
   "cell_type": "code",
   "execution_count": 37,
   "id": "a5e7363d-9b46-450b-89c3-93bf74ab9d4e",
   "metadata": {},
   "outputs": [
    {
     "data": {
      "text/plain": [
       "array([15])"
      ]
     },
     "execution_count": 37,
     "metadata": {},
     "output_type": "execute_result"
    }
   ],
   "source": [
    "amask2=(a2>10)\n",
    "a2[amask & amask2]"
   ]
  },
  {
   "cell_type": "code",
   "execution_count": 39,
   "id": "7f4dce88-fc95-45d3-8bad-ca1d8b297322",
   "metadata": {},
   "outputs": [
    {
     "data": {
      "text/plain": [
       "(array([[ 0,  5, 10],\n",
       "        [ 1,  6, 11],\n",
       "        [ 2,  7, 12],\n",
       "        [ 3,  8, 13],\n",
       "        [ 4,  9, 14]]),\n",
       " array([[ 0,  5, 10],\n",
       "        [ 1,  6, 11],\n",
       "        [ 2,  7, 12],\n",
       "        [ 3,  8, 13],\n",
       "        [ 4,  9, 14]]))"
      ]
     },
     "execution_count": 39,
     "metadata": {},
     "output_type": "execute_result"
    }
   ],
   "source": [
    "arr=np.arange(0,15).reshape(3,5)\n",
    "arr.transpose(),arr.T"
   ]
  },
  {
   "cell_type": "code",
   "execution_count": 41,
   "id": "c3923a0e-cbef-4256-96c6-62237b1a4e9b",
   "metadata": {},
   "outputs": [
    {
     "data": {
      "text/plain": [
       "array([[-2.90294088, -0.64011886, -1.28564653, -1.28994733, -0.00303614,\n",
       "        -0.4253335 ],\n",
       "       [ 0.33210606,  0.71515501,  0.61930297, -0.90251017,  0.5143502 ,\n",
       "         0.82390678],\n",
       "       [-0.62892918,  0.09858715, -0.40158422,  1.04247576,  1.01220942,\n",
       "         0.34985579]])"
      ]
     },
     "execution_count": 41,
     "metadata": {},
     "output_type": "execute_result"
    }
   ],
   "source": [
    "arr=np.random.randn(6,3)\n",
    "arr.T"
   ]
  },
  {
   "cell_type": "code",
   "execution_count": 45,
   "id": "9b64568b-8b82-4b3d-9dbd-f70f1d275478",
   "metadata": {},
   "outputs": [
    {
     "data": {
      "text/plain": [
       "array([[12.33458681, -1.40587939,  0.78231467],\n",
       "       [-1.40587939,  2.76318041, -0.51903469],\n",
       "       [ 0.78231467, -0.51903469,  2.80026391]])"
      ]
     },
     "execution_count": 45,
     "metadata": {},
     "output_type": "execute_result"
    }
   ],
   "source": [
    "np.dot(arr.T,arr)"
   ]
  },
  {
   "cell_type": "code",
   "execution_count": 47,
   "id": "c0817ca7-8081-4cae-88ef-16671a656e27",
   "metadata": {},
   "outputs": [
    {
     "data": {
      "text/plain": [
       "array([[ 0,  1,  2],\n",
       "       [ 3,  4,  5],\n",
       "       [ 6,  7,  8],\n",
       "       [ 9, 10, 11]])"
      ]
     },
     "execution_count": 47,
     "metadata": {},
     "output_type": "execute_result"
    }
   ],
   "source": [
    "a1=np.arange(12).reshape(3,4)\n",
    "a1.reshape((4,3))"
   ]
  },
  {
   "cell_type": "code",
   "execution_count": 53,
   "id": "9f42ec35-302a-4260-9e58-4070aa4217ce",
   "metadata": {},
   "outputs": [
    {
     "data": {
      "text/plain": [
       "(array([[ 0,  1,  2,  3],\n",
       "        [ 4,  5,  6,  7],\n",
       "        [ 8,  9, 10, 11]]),\n",
       " array([[ 0,  4,  8],\n",
       "        [ 1,  5,  9],\n",
       "        [ 2,  6, 10],\n",
       "        [ 3,  7, 11]]))"
      ]
     },
     "execution_count": 53,
     "metadata": {},
     "output_type": "execute_result"
    }
   ],
   "source": [
    "a1.transpose((0,1)),a1.transpose((1,0))"
   ]
  },
  {
   "cell_type": "code",
   "execution_count": 56,
   "id": "0b8078c4-fd83-4672-9f56-58d40ccaac04",
   "metadata": {},
   "outputs": [
    {
     "data": {
      "text/plain": [
       "(array([[ 0,  4,  8],\n",
       "        [ 1,  5,  9],\n",
       "        [ 2,  6, 10],\n",
       "        [ 3,  7, 11]]),\n",
       " array([[ 0,  4,  8],\n",
       "        [ 1,  5,  9],\n",
       "        [ 2,  6, 10],\n",
       "        [ 3,  7, 11]]))"
      ]
     },
     "execution_count": 56,
     "metadata": {},
     "output_type": "execute_result"
    }
   ],
   "source": [
    "a1.swapaxes(0,1),a1.swapaxes(1,0)"
   ]
  },
  {
   "cell_type": "code",
   "execution_count": null,
   "id": "50ece62e-fb08-4030-8c50-e6f92d74efb8",
   "metadata": {},
   "outputs": [],
   "source": []
  }
 ],
 "metadata": {
  "kernelspec": {
   "display_name": "Python 3 (ipykernel)",
   "language": "python",
   "name": "python3"
  },
  "language_info": {
   "codemirror_mode": {
    "name": "ipython",
    "version": 3
   },
   "file_extension": ".py",
   "mimetype": "text/x-python",
   "name": "python",
   "nbconvert_exporter": "python",
   "pygments_lexer": "ipython3",
   "version": "3.12.4"
  }
 },
 "nbformat": 4,
 "nbformat_minor": 5
}
