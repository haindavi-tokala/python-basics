{
 "cells": [
  {
   "cell_type": "code",
   "execution_count": 1,
   "id": "ca4b8b57-4232-4412-80be-f7f9213954a1",
   "metadata": {},
   "outputs": [],
   "source": [
    "a=set([1,2,3])"
   ]
  },
  {
   "cell_type": "code",
   "execution_count": 2,
   "id": "670de139-51a7-4aa8-9370-2c9b70533a3b",
   "metadata": {},
   "outputs": [
    {
     "data": {
      "text/plain": [
       "({1, 2, 3}, {1, 2, 3})"
      ]
     },
     "execution_count": 2,
     "metadata": {},
     "output_type": "execute_result"
    }
   ],
   "source": [
    "b={1,2,3}\n",
    "a,b"
   ]
  },
  {
   "cell_type": "code",
   "execution_count": 7,
   "id": "f00db59a-5492-464b-b93d-42d79f30c9b4",
   "metadata": {},
   "outputs": [],
   "source": [
    "a=set({1,2,3})"
   ]
  },
  {
   "cell_type": "code",
   "execution_count": 8,
   "id": "58bb901f-1d87-48db-b85e-eb62ca8f0835",
   "metadata": {},
   "outputs": [
    {
     "data": {
      "text/plain": [
       "{1, 2, 3}"
      ]
     },
     "execution_count": 8,
     "metadata": {},
     "output_type": "execute_result"
    }
   ],
   "source": [
    "a"
   ]
  },
  {
   "cell_type": "code",
   "execution_count": 5,
   "id": "6c6f1e1b-ad43-4fa6-b7d5-e579a21480c2",
   "metadata": {},
   "outputs": [],
   "source": [
    "a=frozenset({1,2,3})"
   ]
  },
  {
   "cell_type": "code",
   "execution_count": 6,
   "id": "f40cddfc-bf91-4c3e-8e3a-a9d58cf26f75",
   "metadata": {},
   "outputs": [
    {
     "data": {
      "text/plain": [
       "frozenset({1, 2, 3})"
      ]
     },
     "execution_count": 6,
     "metadata": {},
     "output_type": "execute_result"
    }
   ],
   "source": [
    "a"
   ]
  },
  {
   "cell_type": "code",
   "execution_count": 9,
   "id": "7c9194d7-fa71-4710-8cf6-f666b8190cac",
   "metadata": {},
   "outputs": [
    {
     "data": {
      "text/plain": [
       "1"
      ]
     },
     "execution_count": 9,
     "metadata": {},
     "output_type": "execute_result"
    }
   ],
   "source": [
    "min(1,2)"
   ]
  },
  {
   "cell_type": "code",
   "execution_count": 10,
   "id": "108eff1f-80ad-4129-8a48-c3f9923260d6",
   "metadata": {},
   "outputs": [
    {
     "data": {
      "text/plain": [
       "2"
      ]
     },
     "execution_count": 10,
     "metadata": {},
     "output_type": "execute_result"
    }
   ],
   "source": [
    "max(1,2)"
   ]
  },
  {
   "cell_type": "code",
   "execution_count": 11,
   "id": "be7aac39-4556-4e78-8e74-f8ab600e6ba4",
   "metadata": {},
   "outputs": [
    {
     "data": {
      "text/plain": [
       "1"
      ]
     },
     "execution_count": 11,
     "metadata": {},
     "output_type": "execute_result"
    }
   ],
   "source": [
    "pow(1,2)"
   ]
  },
  {
   "cell_type": "code",
   "execution_count": 14,
   "id": "9cfd0942-2c74-4035-adf0-26fdb6695898",
   "metadata": {},
   "outputs": [
    {
     "data": {
      "text/plain": [
       "2.0"
      ]
     },
     "execution_count": 14,
     "metadata": {},
     "output_type": "execute_result"
    }
   ],
   "source": [
    "import numpy as np\n",
    "np.sqrt(4)"
   ]
  },
  {
   "cell_type": "code",
   "execution_count": 16,
   "id": "5653d69a-db65-460e-ba29-2869d7321a1c",
   "metadata": {},
   "outputs": [
    {
     "data": {
      "text/plain": [
       "True"
      ]
     },
     "execution_count": 16,
     "metadata": {},
     "output_type": "execute_result"
    }
   ],
   "source": [
    "a='aba'\n",
    "a[::-1]==a"
   ]
  },
  {
   "cell_type": "code",
   "execution_count": 17,
   "id": "d0e1361f-dc49-4d50-9d89-2d8ecb2a0319",
   "metadata": {},
   "outputs": [
    {
     "data": {
      "text/plain": [
       "'abc'"
      ]
     },
     "execution_count": 17,
     "metadata": {},
     "output_type": "execute_result"
    }
   ],
   "source": [
    "a='abc'\n",
    "a[::1]"
   ]
  },
  {
   "cell_type": "code",
   "execution_count": 18,
   "id": "ae0b75de-526c-464c-9f19-010a798a644f",
   "metadata": {},
   "outputs": [],
   "source": [
    "import pandas as pd\n",
    "a=pd.DataFrame({'a':[1,2,3],'b':[4,5,6]})"
   ]
  },
  {
   "cell_type": "code",
   "execution_count": 19,
   "id": "5cb6f385-b62e-42ac-b0ab-b02553ca1aa9",
   "metadata": {},
   "outputs": [
    {
     "data": {
      "text/html": [
       "<div>\n",
       "<style scoped>\n",
       "    .dataframe tbody tr th:only-of-type {\n",
       "        vertical-align: middle;\n",
       "    }\n",
       "\n",
       "    .dataframe tbody tr th {\n",
       "        vertical-align: top;\n",
       "    }\n",
       "\n",
       "    .dataframe thead th {\n",
       "        text-align: right;\n",
       "    }\n",
       "</style>\n",
       "<table border=\"1\" class=\"dataframe\">\n",
       "  <thead>\n",
       "    <tr style=\"text-align: right;\">\n",
       "      <th></th>\n",
       "      <th>a</th>\n",
       "      <th>b</th>\n",
       "    </tr>\n",
       "  </thead>\n",
       "  <tbody>\n",
       "    <tr>\n",
       "      <th>0</th>\n",
       "      <td>1</td>\n",
       "      <td>4</td>\n",
       "    </tr>\n",
       "    <tr>\n",
       "      <th>1</th>\n",
       "      <td>2</td>\n",
       "      <td>5</td>\n",
       "    </tr>\n",
       "    <tr>\n",
       "      <th>2</th>\n",
       "      <td>3</td>\n",
       "      <td>6</td>\n",
       "    </tr>\n",
       "  </tbody>\n",
       "</table>\n",
       "</div>"
      ],
      "text/plain": [
       "   a  b\n",
       "0  1  4\n",
       "1  2  5\n",
       "2  3  6"
      ]
     },
     "execution_count": 19,
     "metadata": {},
     "output_type": "execute_result"
    }
   ],
   "source": [
    "a"
   ]
  },
  {
   "cell_type": "code",
   "execution_count": 20,
   "id": "2d9f71fa-c7da-436b-961c-1a183d3d0f39",
   "metadata": {},
   "outputs": [
    {
     "data": {
      "text/plain": [
       "{'a': [1, 2, 3], 'b': [4, 5, 6]}"
      ]
     },
     "execution_count": 20,
     "metadata": {},
     "output_type": "execute_result"
    }
   ],
   "source": [
    "b={'a':[1,2,3],'b':[4,5,6]}\n",
    "b"
   ]
  },
  {
   "cell_type": "code",
   "execution_count": 28,
   "id": "45fde50e-09d3-4fd9-9d90-bf46028bc5a8",
   "metadata": {},
   "outputs": [
    {
     "data": {
      "text/plain": [
       "a    1\n",
       "b    4\n",
       "Name: 0, dtype: int64"
      ]
     },
     "execution_count": 28,
     "metadata": {},
     "output_type": "execute_result"
    }
   ],
   "source": [
    "a.iloc[0]"
   ]
  },
  {
   "cell_type": "code",
   "execution_count": 29,
   "id": "89832b08-4fa9-403d-992f-967b3595bcb8",
   "metadata": {},
   "outputs": [
    {
     "data": {
      "text/plain": [
       "1"
      ]
     },
     "execution_count": 29,
     "metadata": {},
     "output_type": "execute_result"
    }
   ],
   "source": [
    "a.loc[0,'a']"
   ]
  },
  {
   "cell_type": "code",
   "execution_count": 34,
   "id": "711ecd15-5133-4038-aec4-29950d203c0b",
   "metadata": {},
   "outputs": [
    {
     "name": "stdout",
     "output_type": "stream",
     "text": [
      "0.5\n",
      "6\n"
     ]
    }
   ],
   "source": [
    "try:\n",
    "    a=1\n",
    "    b=2\n",
    "    print(a/b)\n",
    "    c='12376865'\n",
    "    print(c[6])\n",
    "    \n",
    "except IndexError:\n",
    "    print(\"error\")\n"
   ]
  },
  {
   "cell_type": "code",
   "execution_count": 102,
   "id": "033ac99e-23a8-4731-8356-4f04f3945ef5",
   "metadata": {},
   "outputs": [],
   "source": [
    "data=open(\"txt1.txt\",\"r\")"
   ]
  },
  {
   "cell_type": "code",
   "execution_count": 103,
   "id": "93d51f37-43d6-4118-b386-afe2529dca4c",
   "metadata": {},
   "outputs": [
    {
     "data": {
      "text/plain": [
       "'132t1634132t1634'"
      ]
     },
     "execution_count": 103,
     "metadata": {},
     "output_type": "execute_result"
    }
   ],
   "source": [
    "data.read()\n"
   ]
  },
  {
   "cell_type": "code",
   "execution_count": 61,
   "id": "0b7cd1a0-a551-49c3-8c8a-a9079d439602",
   "metadata": {},
   "outputs": [
    {
     "ename": "UnsupportedOperation",
     "evalue": "not writable",
     "output_type": "error",
     "traceback": [
      "\u001b[1;31m---------------------------------------------------------------------------\u001b[0m",
      "\u001b[1;31mUnsupportedOperation\u001b[0m                      Traceback (most recent call last)",
      "Cell \u001b[1;32mIn[61], line 1\u001b[0m\n\u001b[1;32m----> 1\u001b[0m \u001b[43mdata\u001b[49m\u001b[38;5;241;43m.\u001b[39;49m\u001b[43mwrite\u001b[49m\u001b[43m(\u001b[49m\u001b[38;5;124;43m'\u001b[39;49m\u001b[38;5;124;43m132t1634\u001b[39;49m\u001b[38;5;124;43m'\u001b[39;49m\u001b[43m)\u001b[49m\n",
      "\u001b[1;31mUnsupportedOperation\u001b[0m: not writable"
     ]
    }
   ],
   "source": [
    "data.write('132t1634')"
   ]
  },
  {
   "cell_type": "code",
   "execution_count": 57,
   "id": "b302752c-174a-4f41-9d1f-33418389e472",
   "metadata": {},
   "outputs": [
    {
     "data": {
      "text/plain": [
       "8"
      ]
     },
     "execution_count": 57,
     "metadata": {},
     "output_type": "execute_result"
    }
   ],
   "source": [
    "data.write('132t1634')"
   ]
  },
  {
   "cell_type": "code",
   "execution_count": 62,
   "id": "265c3869-6d1e-4d1f-98a0-b4f44187200f",
   "metadata": {},
   "outputs": [
    {
     "name": "stdout",
     "output_type": "stream",
     "text": [
      "0\n"
     ]
    }
   ],
   "source": [
    "a=0\n",
    "print(f'{a}')"
   ]
  },
  {
   "cell_type": "code",
   "execution_count": 69,
   "id": "ff268399-382f-404c-8d9d-a4ad65f9791d",
   "metadata": {},
   "outputs": [
    {
     "name": "stdout",
     "output_type": "stream",
     "text": [
      "2 not\n"
     ]
    }
   ],
   "source": [
    "n=98\n",
    "for i in range(2,n):\n",
    "    if n%i==0:\n",
    "        print(i, 'not')\n",
    "        break\n",
    "    else:\n",
    "        continue\n",
    "if i==n-1:\n",
    "    print('prime')"
   ]
  },
  {
   "cell_type": "code",
   "execution_count": 75,
   "id": "93515bda-f1a3-4941-a5b6-54cac0dc1bb7",
   "metadata": {},
   "outputs": [
    {
     "ename": "SyntaxError",
     "evalue": "invalid syntax (1994188934.py, line 3)",
     "output_type": "error",
     "traceback": [
      "\u001b[1;36m  Cell \u001b[1;32mIn[75], line 3\u001b[1;36m\u001b[0m\n\u001b[1;33m    c=lambda a,b:return (a+b)\u001b[0m\n\u001b[1;37m                 ^\u001b[0m\n\u001b[1;31mSyntaxError\u001b[0m\u001b[1;31m:\u001b[0m invalid syntax\n"
     ]
    }
   ],
   "source": [
    "a=0\n",
    "b=1\n",
    "c=lambda a,b: (a+b)\n",
    "print(c(a,b))"
   ]
  },
  {
   "cell_type": "code",
   "execution_count": 78,
   "id": "b7ac7802-d47f-4b08-8aa0-e1e864eadd5c",
   "metadata": {},
   "outputs": [
    {
     "name": "stdout",
     "output_type": "stream",
     "text": [
      "4\n"
     ]
    }
   ],
   "source": [
    "import numpy as np\n",
    "print(np.random.randint(10))"
   ]
  },
  {
   "cell_type": "code",
   "execution_count": 116,
   "id": "7ad2219c-3201-4e43-95b2-c54c58fc341e",
   "metadata": {},
   "outputs": [
    {
     "data": {
      "text/plain": [
       "[<matplotlib.lines.Line2D at 0x29730e4aae0>]"
      ]
     },
     "execution_count": 116,
     "metadata": {},
     "output_type": "execute_result"
    },
    {
     "data": {
      "image/png": "[encoded data removed]",
      "text/plain": [
       "<Figure size 640x480 with 1 Axes>"
      ]
     },
     "metadata": {},
     "output_type": "display_data"
    }
   ],
   "source": [
    "import matplotlib.pyplot as plt\n",
    "a=[1,2,3,4]\n",
    "b=[1,2,3,4]\n",
    "fig,ax=plt.subplots()\n",
    "ax.set(title='dhfwy')\n",
    "plt.plot(a,b)"
   ]
  },
  {
   "cell_type": "code",
   "execution_count": 89,
   "id": "d5275d56-5ea9-488b-b8d8-889d0e972ec6",
   "metadata": {},
   "outputs": [
    {
     "data": {
      "text/plain": [
       "0.36787944117144233"
      ]
     },
     "execution_count": 89,
     "metadata": {},
     "output_type": "execute_result"
    }
   ],
   "source": [
    "np.exp(-1)"
   ]
  },
  {
   "cell_type": "code",
   "execution_count": 90,
   "id": "0b2dd16f-b2bd-4498-8750-c6512e57bc6e",
   "metadata": {},
   "outputs": [],
   "source": [
    "a=[1,2,3]\n",
    "a.clear()"
   ]
  },
  {
   "cell_type": "code",
   "execution_count": 91,
   "id": "1142ad3f-4f2d-40c5-8c3f-5382f61d4d23",
   "metadata": {},
   "outputs": [
    {
     "data": {
      "text/plain": [
       "[]"
      ]
     },
     "execution_count": 91,
     "metadata": {},
     "output_type": "execute_result"
    }
   ],
   "source": [
    "a"
   ]
  },
  {
   "cell_type": "code",
   "execution_count": 93,
   "id": "4486ecd0-67cc-45a5-94eb-8eaa81596854",
   "metadata": {},
   "outputs": [],
   "source": [
    "d={'a':1,'b':10}\n",
    "nd={k:(v if v==10 else v+10) for k,v in d.items()}\n"
   ]
  },
  {
   "cell_type": "code",
   "execution_count": 94,
   "id": "e7621ac5-a49f-41cc-9646-660b8734aa54",
   "metadata": {},
   "outputs": [
    {
     "data": {
      "text/plain": [
       "{'a': 11, 'b': 10}"
      ]
     },
     "execution_count": 94,
     "metadata": {},
     "output_type": "execute_result"
    }
   ],
   "source": [
    "nd"
   ]
  },
  {
   "cell_type": "code",
   "execution_count": 96,
   "id": "67e136aa-56a6-4efb-afc5-4ec14e8b55d4",
   "metadata": {},
   "outputs": [
    {
     "name": "stdout",
     "output_type": "stream",
     "text": [
      "[2, 4]\n"
     ]
    }
   ],
   "source": [
    "def check(n):\n",
    "    return n%2==0\n",
    "l=[1,2,3,4]\n",
    "print(list(filter(check,l)))"
   ]
  },
  {
   "cell_type": "code",
   "execution_count": 114,
   "id": "00c9c8c2-c874-4122-ae3e-8a53436c84ca",
   "metadata": {},
   "outputs": [
    {
     "ename": "TypeError",
     "evalue": "'int' object is not iterable",
     "output_type": "error",
     "traceback": [
      "\u001b[1;31m---------------------------------------------------------------------------\u001b[0m",
      "\u001b[1;31mTypeError\u001b[0m                                 Traceback (most recent call last)",
      "Cell \u001b[1;32mIn[114], line 5\u001b[0m\n\u001b[0;32m      3\u001b[0m     \u001b[38;5;28;01mreturn\u001b[39;00m n\u001b[38;5;241m+\u001b[39m\u001b[38;5;241m1\u001b[39m\n\u001b[0;32m      4\u001b[0m l\u001b[38;5;241m=\u001b[39m[\u001b[38;5;241m1\u001b[39m,\u001b[38;5;241m2\u001b[39m,\u001b[38;5;241m3\u001b[39m,\u001b[38;5;241m4\u001b[39m]\n\u001b[1;32m----> 5\u001b[0m \u001b[38;5;28mprint\u001b[39m(\u001b[38;5;28;43mlist\u001b[39;49m\u001b[43m(\u001b[49m\u001b[43mfunctools\u001b[49m\u001b[38;5;241;43m.\u001b[39;49m\u001b[43mreduce\u001b[49m\u001b[43m(\u001b[49m\u001b[38;5;28;43;01mlambda\u001b[39;49;00m\u001b[43m \u001b[49m\u001b[43ma\u001b[49m\u001b[43m,\u001b[49m\u001b[43mb\u001b[49m\u001b[43m:\u001b[49m\u001b[43ma\u001b[49m\u001b[38;5;241;43m+\u001b[39;49m\u001b[43mb\u001b[49m\u001b[43m,\u001b[49m\u001b[43ml\u001b[49m\u001b[43m)\u001b[49m\u001b[43m)\u001b[49m)\n",
      "\u001b[1;31mTypeError\u001b[0m: 'int' object is not iterable"
     ]
    }
   ],
   "source": [
    "import functools\n",
    "def check(n):\n",
    "    return n+1\n",
    "l=[1,2,3,4]\n",
    "print(list(functools.reduce(lambda a,b:a+b,l)))"
   ]
  },
  {
   "cell_type": "code",
   "execution_count": 107,
   "id": "4cde5325-b2e6-4855-8680-e3e6d1f8942c",
   "metadata": {},
   "outputs": [
    {
     "ename": "TypeError",
     "evalue": "'tuple' object does not support the context manager protocol",
     "output_type": "error",
     "traceback": [
      "\u001b[1;31m---------------------------------------------------------------------------\u001b[0m",
      "\u001b[1;31mTypeError\u001b[0m                                 Traceback (most recent call last)",
      "Cell \u001b[1;32mIn[107], line 1\u001b[0m\n\u001b[1;32m----> 1\u001b[0m \u001b[38;5;28;01mwith\u001b[39;00m (\u001b[38;5;124m'\u001b[39m\u001b[38;5;124mtxt1.txt\u001b[39m\u001b[38;5;124m'\u001b[39m,\u001b[38;5;124m'\u001b[39m\u001b[38;5;124mr\u001b[39m\u001b[38;5;124m'\u001b[39m) \u001b[38;5;28;01mas\u001b[39;00m f:\n\u001b[0;32m      2\u001b[0m     c\u001b[38;5;241m=\u001b[39m f\u001b[38;5;241m.\u001b[39mread()\n",
      "\u001b[1;31mTypeError\u001b[0m: 'tuple' object does not support the context manager protocol"
     ]
    }
   ],
   "source": [
    "with ('txt1txt','r') as f:\n",
    "    c= f.read()"
   ]
  },
  {
   "cell_type": "code",
   "execution_count": 121,
   "id": "d65b00b4-584b-45ed-822c-cb151e326beb",
   "metadata": {},
   "outputs": [],
   "source": [
    "def deco(func):\n",
    "    def param(x,y):\n",
    "        if y==0:\n",
    "            print('error')\n",
    "        else:\n",
    "            func(x,y)\n",
    "    return param\n",
    "\n",
    "a=1\n",
    "b=2\n",
    "@deco\n",
    "def div(a,b):\n",
    "    print(a/b)"
   ]
  },
  {
   "cell_type": "code",
   "execution_count": 122,
   "id": "6519fe4f-2cfb-4022-badd-b32ce89ff6fc",
   "metadata": {},
   "outputs": [
    {
     "name": "stdout",
     "output_type": "stream",
     "text": [
      "0.5\n"
     ]
    }
   ],
   "source": [
    "div(a,b)"
   ]
  },
  {
   "cell_type": "code",
   "execution_count": 124,
   "id": "ec2e96a7-b84b-4104-8d93-e8676beab5c0",
   "metadata": {},
   "outputs": [
    {
     "name": "stdout",
     "output_type": "stream",
     "text": [
      "Geeks    10\n",
      "for      20\n",
      "geeks    30\n",
      "dtype: int64\n"
     ]
    }
   ],
   "source": [
    "\n",
    "import pandas as pd\n",
    " \n",
    "  # a simple dictionary\n",
    "dict = {'Geeks': 10,\n",
    "'for': 20,\n",
    "'geeks': 30}\n",
    " \n",
    "  # create series from dictionary\n",
    "print(pd.Series(dict))"
   ]
  },
  {
   "cell_type": "code",
   "execution_count": 131,
   "id": "ad64cb1f-0065-4f18-be56-f08d97188cc1",
   "metadata": {},
   "outputs": [],
   "source": [
    "list1=[1,2,3,4,5,6,7,8,9]\n",
    "l=[i for i in list1 if i/2==0]"
   ]
  },
  {
   "cell_type": "code",
   "execution_count": 130,
   "id": "4de974fa-b2ae-4b1a-b5c5-5640ac949a65",
   "metadata": {},
   "outputs": [
    {
     "data": {
      "text/plain": [
       "[]"
      ]
     },
     "execution_count": 130,
     "metadata": {},
     "output_type": "execute_result"
    }
   ],
   "source": [
    "l"
   ]
  },
  {
   "cell_type": "code",
   "execution_count": null,
   "id": "5c4a5ddb-56f5-4e07-b24e-1225858434ea",
   "metadata": {},
   "outputs": [],
   "source": []
  }
 ],
 "metadata": {
  "kernelspec": {
   "display_name": "Python 3 (ipykernel)",
   "language": "python",
   "name": "python3"
  },
  "language_info": {
   "codemirror_mode": {
    "name": "ipython",
    "version": 3
   },
   "file_extension": ".py",
   "mimetype": "text/x-python",
   "name": "python",
   "nbconvert_exporter": "python",
   "pygments_lexer": "ipython3",
   "version": "3.12.7"
  }
 },
 "nbformat": 4,
 "nbformat_minor": 5
}
