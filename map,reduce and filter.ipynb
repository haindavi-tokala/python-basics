{
 "cells": [
  {
   "cell_type": "code",
   "execution_count": 5,
   "id": "88eb637b-ebf1-4c8b-8c0c-c1c56fed3769",
   "metadata": {},
   "outputs": [
    {
     "name": "stdout",
     "output_type": "stream",
     "text": [
      "<map object at 0x000001D5B12A76D0>\n",
      "[1, 4, 9]\n"
     ]
    }
   ],
   "source": [
    "def sumFun(n):\n",
    "    return n*n\n",
    "a=[1,2,3]\n",
    "print(map(sumFun,a))\n",
    "print(list(map(sumFun,a)))"
   ]
  },
  {
   "cell_type": "code",
   "execution_count": 2,
   "id": "82eca32d-5bbd-4923-9eec-fee4890fec3c",
   "metadata": {},
   "outputs": [
    {
     "name": "stdout",
     "output_type": "stream",
     "text": [
      "<filter object at 0x0000024285B45F90>\n",
      "[2, 4, 6, 8, 10]\n"
     ]
    }
   ],
   "source": [
    "def even(a):\n",
    "    return a%2==0\n",
    "a=[1,2,3,4,5,6,7,8,9,10]\n",
    "print(filter(even,a))\n",
    "print(list(filter(even,a)))"
   ]
  },
  {
   "cell_type": "code",
   "execution_count": 11,
   "id": "d322b283-a770-4c47-a923-524d2ff7cb6f",
   "metadata": {},
   "outputs": [
    {
     "name": "stdout",
     "output_type": "stream",
     "text": [
      "15\n"
     ]
    }
   ],
   "source": [
    "import functools\n",
    "l=[1,2,3,4,5]\n",
    "print(functools.reduce(lambda a,b:a+b,l))"
   ]
  },
  {
   "cell_type": "raw",
   "id": "14e6cad4-267c-4e9d-b21f-28bae00e8deb",
   "metadata": {},
   "source": []
  },
  {
   "cell_type": "code",
   "execution_count": null,
   "id": "6179c638-de66-4eed-88ed-48435f1d49c7",
   "metadata": {},
   "outputs": [],
   "source": []
  }
 ],
 "metadata": {
  "kernelspec": {
   "display_name": "Python 3 (ipykernel)",
   "language": "python",
   "name": "python3"
  },
  "language_info": {
   "codemirror_mode": {
    "name": "ipython",
    "version": 3
   },
   "file_extension": ".py",
   "mimetype": "text/x-python",
   "name": "python",
   "nbconvert_exporter": "python",
   "pygments_lexer": "ipython3",
   "version": "3.12.7"
  }
 },
 "nbformat": 4,
 "nbformat_minor": 5
}
