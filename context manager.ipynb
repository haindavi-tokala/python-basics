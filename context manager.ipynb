{
 "cells": [
  {
   "cell_type": "code",
   "execution_count": 6,
   "id": "a56e9092-9fdf-4df3-b847-ed71d8bfa1cf",
   "metadata": {},
   "outputs": [
    {
     "name": "stdout",
     "output_type": "stream",
     "text": [
      "Entering the context...\n",
      "Using Resource\n",
      "Exiting the context...\n"
     ]
    }
   ],
   "source": [
    "class MyContextManager:\n",
    "    def __enter__(self):\n",
    "        print(\"Entering the context...\")\n",
    "        return \"Resource\"\n",
    "    \n",
    "    def __exit__(self, exc_type, exc_value, traceback):\n",
    "        print(\"Exiting the context...\")\n",
    "        if exc_type:\n",
    "            print(\"An error occurred\",exc_value)\n",
    "        return True  # Suppresses the exception if True\n",
    "\n",
    "with MyContextManager() as resource:\n",
    "    print(f\"Using {resource}\")\n",
    "    # Uncommenting the next line will simulate an exception\n",
    "    # raise ValueError(\"An error occurred\")\n"
   ]
  },
  {
   "cell_type": "code",
   "execution_count": 26,
   "id": "465d3e8d-1c87-4063-a82d-ec7304dab169",
   "metadata": {},
   "outputs": [
    {
     "name": "stdout",
     "output_type": "stream",
     "text": [
      "Opened file: abc.txt\n",
      "File Contents:\n",
      " abc\n",
      "Closed file: abc.txt\n"
     ]
    }
   ],
   "source": [
    "class FileManager:\n",
    "    def __init__(self, filename, mode):\n",
    "        self.filename = filename\n",
    "        self.mode = mode\n",
    "\n",
    "    def __enter__(self):\n",
    "        self.file = open(self.filename, self.mode)\n",
    "        print(f\"Opened file: {self.filename}\")\n",
    "        return self.file  # Return the file object to the 'with' block\n",
    "\n",
    "    def __exit__(self, exc_type, exc_value, traceback):\n",
    "        self.file.close()  # Ensure the file is closed after the 'with' block\n",
    "        print(f\"Closed file: {self.filename}\")\n",
    "\n",
    "# Using the custom FileManager context manager\n",
    "with FileManager('abc.txt', 'r+') as file:\n",
    "    file.write(\"abc\")\n",
    "    file.seek(0)\n",
    "    contents = file.read()\n",
    "    \n",
    "    \n",
    "    print(\"File Contents:\\n\", contents)\n"
   ]
  },
  {
   "cell_type": "code",
   "execution_count": 27,
   "id": "43cabcda-45ee-4259-ab0d-f23cdae932b4",
   "metadata": {},
   "outputs": [
    {
     "name": "stdout",
     "output_type": "stream",
     "text": [
      "abc\n"
     ]
    }
   ],
   "source": [
    "with open('abc.txt', 'r') as file:\n",
    "    content = file.read()\n",
    "\n",
    "# Print the content of the file\n",
    "print(content)"
   ]
  },
  {
   "cell_type": "code",
   "execution_count": null,
   "id": "2d96d220-c9c5-45a9-9d7c-544e6e89b574",
   "metadata": {},
   "outputs": [],
   "source": []
  }
 ],
 "metadata": {
  "kernelspec": {
   "display_name": "Python 3 (ipykernel)",
   "language": "python",
   "name": "python3"
  },
  "language_info": {
   "codemirror_mode": {
    "name": "ipython",
    "version": 3
   },
   "file_extension": ".py",
   "mimetype": "text/x-python",
   "name": "python",
   "nbconvert_exporter": "python",
   "pygments_lexer": "ipython3",
   "version": "3.12.7"
  }
 },
 "nbformat": 4,
 "nbformat_minor": 5
}
