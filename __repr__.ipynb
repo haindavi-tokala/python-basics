{
 "cells": [
  {
   "cell_type": "code",
   "execution_count": 15,
   "id": "0e5586d1-9107-46dc-830f-97c2fea8f0a1",
   "metadata": {},
   "outputs": [
    {
     "data": {
      "text/plain": [
       "'Point(x=10, y=29,39)'"
      ]
     },
     "execution_count": 15,
     "metadata": {},
     "output_type": "execute_result"
    }
   ],
   "source": [
    "class Point:\n",
    "\n",
    "    def __init__(self, x, y):\n",
    "\n",
    "        self.x = x\n",
    "\n",
    "        self.y = y\n",
    "\n",
    "    def __repr__(self):\n",
    "        self.c=self.x+self.y\n",
    "\n",
    "        return f\"Point(x={self.x}, y={self.y},{self.c})\"\n",
    "p=Point(10,29)   \n",
    "p.__repr__()"
   ]
  },
  {
   "cell_type": "code",
   "execution_count": null,
   "id": "0d9f536c-323e-4af7-b72e-90405419cdbb",
   "metadata": {},
   "outputs": [],
   "source": []
  },
  {
   "cell_type": "code",
   "execution_count": null,
   "id": "cff6f436-487e-440d-a68c-cb596026ce53",
   "metadata": {},
   "outputs": [],
   "source": []
  }
 ],
 "metadata": {
  "kernelspec": {
   "display_name": "Python 3 (ipykernel)",
   "language": "python",
   "name": "python3"
  },
  "language_info": {
   "codemirror_mode": {
    "name": "ipython",
    "version": 3
   },
   "file_extension": ".py",
   "mimetype": "text/x-python",
   "name": "python",
   "nbconvert_exporter": "python",
   "pygments_lexer": "ipython3",
   "version": "3.12.4"
  }
 },
 "nbformat": 4,
 "nbformat_minor": 5
}
