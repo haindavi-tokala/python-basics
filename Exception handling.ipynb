{
 "cells": [
  {
   "cell_type": "code",
   "execution_count": 3,
   "id": "86783ee6-aecf-409e-bc97-51c8130fc16e",
   "metadata": {},
   "outputs": [
    {
     "name": "stdout",
     "output_type": "stream",
     "text": [
      "division by zero\n",
      "executed\n"
     ]
    }
   ],
   "source": [
    "a=9\n",
    "b=0\n",
    "try:\n",
    "    print(a/b)\n",
    "except ZeroDivisionError as e:\n",
    "    print(e)\n",
    "finally:\n",
    "    print(\"executed\")\n",
    "    "
   ]
  },
  {
   "cell_type": "code",
   "execution_count": 10,
   "id": "0b573667-b7a7-4561-9afb-1ba30fd94f5e",
   "metadata": {},
   "outputs": [
    {
     "name": "stdin",
     "output_type": "stream",
     "text": [
      "Enter a number:  9\n"
     ]
    },
    {
     "name": "stdout",
     "output_type": "stream",
     "text": [
      "Error: You cannot divide by zero!\n"
     ]
    }
   ],
   "source": [
    "try:\n",
    "    num = int(input(\"Enter a number: \"))\n",
    "    result = 10 / numtry:\n",
    "    x = int(input(\"Enter a number: \"))\n",
    "    result = 10 / x\n",
    "except (ZeroDivisionError, ValueError) as e:\n",
    "    print(f\"Error occurred: {e}\")\n",
    "    print(f\"Result is {result}\")\n",
    "except ZeroDivisionError:\n",
    "    print(\"Error: You cannot divide by zero!\")\n",
    "except ValueError:\n",
    "    print(\"Error: Invalid input, please enter a number.\")\n"
   ]
  },
  {
   "cell_type": "code",
   "execution_count": 12,
   "id": "21e6006b-1594-4db6-ac7e-c12d9b538777",
   "metadata": {},
   "outputs": [
    {
     "name": "stdin",
     "output_type": "stream",
     "text": [
      "Enter a number:  a\n"
     ]
    },
    {
     "name": "stdout",
     "output_type": "stream",
     "text": [
      "Error occurred: invalid literal for int() with base 10: 'a'\n"
     ]
    }
   ],
   "source": [
    "try:\n",
    "    x = int(input(\"Enter a number: \"))\n",
    "    result = 10 / x\n",
    "except (ZeroDivisionError, ValueError) as e:\n",
    "    print(f\"Error occurred: {e}\")"
   ]
  },
  {
   "cell_type": "code",
   "execution_count": 18,
   "id": "6aa975e9-a486-4767-bbad-4499d8768f32",
   "metadata": {},
   "outputs": [
    {
     "name": "stdout",
     "output_type": "stream",
     "text": [
      "division by zero error\n"
     ]
    }
   ],
   "source": [
    "try:\n",
    "    a=0\n",
    "    b=0\n",
    "    res=a/b\n",
    "    \n",
    "except ZeroDivisionError:\n",
    "    print(\"division by zero error\")\n",
    "else:\n",
    "    print(res)"
   ]
  },
  {
   "cell_type": "code",
   "execution_count": 23,
   "id": "478e1a84-7f5b-45d6-b885-b5f141e48b4d",
   "metadata": {},
   "outputs": [
    {
     "name": "stdout",
     "output_type": "stream",
     "text": [
      "Negative numbers are not allowed.\n"
     ]
    }
   ],
   "source": [
    "class neg(Exception):\n",
    "    pass\n",
    "\n",
    "def process_number(x):\n",
    "    if x < 0:\n",
    "        raise neg(\"Negative numbers are not allowed.\")\n",
    "    return x * 2\n",
    "\n",
    "try:\n",
    "    result = process_number(-5)\n",
    "except neg as e:\n",
    "    print(e)"
   ]
  },
  {
   "cell_type": "code",
   "execution_count": 35,
   "id": "950a3f59-00a6-4a84-a362-34ee11608a06",
   "metadata": {},
   "outputs": [
    {
     "name": "stdout",
     "output_type": "stream",
     "text": [
      "file doesnt exist\n",
      "executed\n"
     ]
    }
   ],
   "source": [
    "\n",
    "try:\n",
    "    f = open('abcd.txt', 'r')\n",
    "    print(f.read())\n",
    "    f.close()\n",
    "except FileNotFoundError:\n",
    "    print(\"file doesnt exist\")  # Raising custom exception\n",
    "\n",
    "finally:\n",
    "    print(\"executed\")        "
   ]
  },
  {
   "cell_type": "code",
   "execution_count": 36,
   "id": "52c3edd0-7960-4688-b262-a14f6f0294a3",
   "metadata": {},
   "outputs": [
    {
     "name": "stdin",
     "output_type": "stream",
     "text": [
      "Enter a positive integer:  -9\n"
     ]
    },
    {
     "name": "stdout",
     "output_type": "stream",
     "text": [
      "ValueError: Negative number entered!\n",
      "Execution complete, cleaning up...\n"
     ]
    }
   ],
   "source": [
    "try:\n",
    "    x = int(input(\"Enter a positive integer: \"))\n",
    "    if x < 0:\n",
    "        raise ValueError(\"Negative number entered!\")\n",
    "except ValueError as ve:\n",
    "    print(f\"ValueError: {ve}\")\n",
    "finally:\n",
    "    print(\"Execution complete, cleaning up...\")\n"
   ]
  },
  {
   "cell_type": "code",
   "execution_count": 39,
   "id": "c6c18a4c-8006-4c9f-9006-5a1423a69587",
   "metadata": {},
   "outputs": [
    {
     "ename": "SyntaxError",
     "evalue": "invalid syntax (2827218061.py, line 5)",
     "output_type": "error",
     "traceback": [
      "\u001b[1;36m  Cell \u001b[1;32mIn[39], line 5\u001b[1;36m\u001b[0m\n\u001b[1;33m    except ValueError as ve:\u001b[0m\n\u001b[1;37m    ^\u001b[0m\n\u001b[1;31mSyntaxError\u001b[0m\u001b[1;31m:\u001b[0m invalid syntax\n"
     ]
    }
   ],
   "source": [
    "try:\n",
    "    x = int(input(\"Enter a positive integer: \"))\n",
    "    if x < 0:\n",
    "        raise ValueError(\"Negative number entered!\")\n",
    "except ValueError as ve:\n",
    "    print(f\"ValueError: {ve}\")\n",
    "finally:\n",
    "    print(\"Execution complete, cleaning up...\")\n"
   ]
  },
  {
   "cell_type": "code",
   "execution_count": null,
   "id": "eb99960b-b57b-4a9b-aed9-560c35501e9e",
   "metadata": {},
   "outputs": [],
   "source": []
  }
 ],
 "metadata": {
  "kernelspec": {
   "display_name": "Python 3 (ipykernel)",
   "language": "python",
   "name": "python3"
  },
  "language_info": {
   "codemirror_mode": {
    "name": "ipython",
    "version": 3
   },
   "file_extension": ".py",
   "mimetype": "text/x-python",
   "name": "python",
   "nbconvert_exporter": "python",
   "pygments_lexer": "ipython3",
   "version": "3.12.4"
  }
 },
 "nbformat": 4,
 "nbformat_minor": 5
}
