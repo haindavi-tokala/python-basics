{
 "cells": [
  {
   "cell_type": "code",
   "execution_count": 7,
   "id": "b84d8493-3756-437a-bf73-880e880e9aea",
   "metadata": {},
   "outputs": [
    {
     "name": "stdout",
     "output_type": "stream",
     "text": [
      "[1, 2, 3]\n"
     ]
    }
   ],
   "source": [
    "a=[1,2,3]\n",
    "print(a)"
   ]
  },
  {
   "cell_type": "code",
   "execution_count": 8,
   "id": "e38dbe1e-1a5a-4af0-b566-8714def46d42",
   "metadata": {},
   "outputs": [
    {
     "data": {
      "text/plain": [
       "[1, 2, 3, 1]"
      ]
     },
     "execution_count": 8,
     "metadata": {},
     "output_type": "execute_result"
    }
   ],
   "source": [
    "a.append(1)\n",
    "a"
   ]
  },
  {
   "cell_type": "code",
   "execution_count": 9,
   "id": "f5d4f91d-c7b5-4544-b5e1-8becea6424a2",
   "metadata": {},
   "outputs": [
    {
     "data": {
      "text/plain": [
       "[1, 2, 3, 1, 4, 5, 6]"
      ]
     },
     "execution_count": 9,
     "metadata": {},
     "output_type": "execute_result"
    }
   ],
   "source": [
    "b=[4,5,6]\n",
    "a.extend(b)\n",
    "a"
   ]
  },
  {
   "cell_type": "code",
   "execution_count": 12,
   "id": "115f9ea5-2ea0-4044-9afa-729df53d755c",
   "metadata": {},
   "outputs": [],
   "source": [
    "a.remove(1)"
   ]
  },
  {
   "cell_type": "code",
   "execution_count": 13,
   "id": "427ac19b-5a2e-41c8-abf5-0e854ee5a721",
   "metadata": {},
   "outputs": [
    {
     "data": {
      "text/plain": [
       "[2, 3, 4, 5, 6]"
      ]
     },
     "execution_count": 13,
     "metadata": {},
     "output_type": "execute_result"
    }
   ],
   "source": [
    "a"
   ]
  },
  {
   "cell_type": "code",
   "execution_count": 14,
   "id": "8b93942f-1ae3-419e-973d-e5936c476b6d",
   "metadata": {},
   "outputs": [
    {
     "data": {
      "text/plain": [
       "6"
      ]
     },
     "execution_count": 14,
     "metadata": {},
     "output_type": "execute_result"
    }
   ],
   "source": [
    "a.pop()"
   ]
  },
  {
   "cell_type": "code",
   "execution_count": 15,
   "id": "df117042-2a4c-4207-9957-dc03a409a757",
   "metadata": {},
   "outputs": [
    {
     "data": {
      "text/plain": [
       "4"
      ]
     },
     "execution_count": 15,
     "metadata": {},
     "output_type": "execute_result"
    }
   ],
   "source": [
    "len(a)"
   ]
  },
  {
   "cell_type": "code",
   "execution_count": 17,
   "id": "76074788-b802-4e58-a2ad-dbd3322c5dcc",
   "metadata": {},
   "outputs": [
    {
     "name": "stdout",
     "output_type": "stream",
     "text": [
      "2 3 4 5 "
     ]
    }
   ],
   "source": [
    "for i in range(len(a)):\n",
    "    print(a[i],end=' ')"
   ]
  },
  {
   "cell_type": "code",
   "execution_count": 18,
   "id": "38af50a1-3706-488e-939d-fb823f74879d",
   "metadata": {},
   "outputs": [
    {
     "name": "stdout",
     "output_type": "stream",
     "text": [
      "[2, 3, 4, 5]\n"
     ]
    }
   ],
   "source": [
    "a.sort()\n",
    "print(a)"
   ]
  },
  {
   "cell_type": "code",
   "execution_count": 22,
   "id": "1ba84112-d26b-4d66-8e8f-10aa7400b1c1",
   "metadata": {},
   "outputs": [
    {
     "name": "stdout",
     "output_type": "stream",
     "text": [
      "[1, 2, 3, 6, 7] [3, 6, 2, 7, 1]\n"
     ]
    }
   ],
   "source": [
    "d=[3,6,2,7,1]\n",
    "c=sorted(d)\n",
    "print(c,d)"
   ]
  },
  {
   "cell_type": "code",
   "execution_count": 23,
   "id": "0cf649d3-d9ae-47c8-b26a-ccfa7352faf8",
   "metadata": {},
   "outputs": [
    {
     "data": {
      "text/plain": [
       "0"
      ]
     },
     "execution_count": 23,
     "metadata": {},
     "output_type": "execute_result"
    }
   ],
   "source": [
    "a.index(2)"
   ]
  },
  {
   "cell_type": "code",
   "execution_count": 24,
   "id": "fe36253a-1f0a-4d66-9925-60934da9551c",
   "metadata": {},
   "outputs": [
    {
     "data": {
      "text/plain": [
       "2"
      ]
     },
     "execution_count": 24,
     "metadata": {},
     "output_type": "execute_result"
    }
   ],
   "source": [
    "v=[1,1,2,3,4,4]\n",
    "v.count(1)"
   ]
  },
  {
   "cell_type": "code",
   "execution_count": 28,
   "id": "dec15b4b-3ebb-412a-a2cf-6c6f4cf2c789",
   "metadata": {},
   "outputs": [
    {
     "data": {
      "text/plain": [
       "[4, 4, 3, 2, 1, 1]"
      ]
     },
     "execution_count": 28,
     "metadata": {},
     "output_type": "execute_result"
    }
   ],
   "source": [
    "v.reverse()\n",
    "v"
   ]
  },
  {
   "cell_type": "code",
   "execution_count": 29,
   "id": "85a61ddf-247d-4c3c-b308-f63709708e6e",
   "metadata": {},
   "outputs": [
    {
     "name": "stdout",
     "output_type": "stream",
     "text": [
      "[5, 4, 3, 2]\n"
     ]
    }
   ],
   "source": [
    "print(a[::-1])\n"
   ]
  },
  {
   "cell_type": "code",
   "execution_count": 31,
   "id": "6d222ae4-67f8-482d-b6d5-ef03977619c2",
   "metadata": {},
   "outputs": [
    {
     "name": "stdout",
     "output_type": "stream",
     "text": [
      "5 4 3 2 "
     ]
    }
   ],
   "source": [
    "l=len(a)-1\n",
    "for i in range(l,-1,-1):\n",
    "    print(a[i],end=' ')"
   ]
  },
  {
   "cell_type": "code",
   "execution_count": null,
   "id": "57b47430-1f55-4454-87dd-f7739fed141a",
   "metadata": {},
   "outputs": [],
   "source": [
    "TUPLES"
   ]
  },
  {
   "cell_type": "code",
   "execution_count": 33,
   "id": "7d6ebda8-5277-47f3-8d7f-54221ed8c962",
   "metadata": {},
   "outputs": [
    {
     "data": {
      "text/plain": [
       "5"
      ]
     },
     "execution_count": 33,
     "metadata": {},
     "output_type": "execute_result"
    }
   ],
   "source": [
    "t=(4,5)\n",
    "t[1]"
   ]
  },
  {
   "cell_type": "code",
   "execution_count": 34,
   "id": "5e83fcbc-bfc3-4997-b6ed-853a7ea741bb",
   "metadata": {},
   "outputs": [
    {
     "data": {
      "text/plain": [
       "0"
      ]
     },
     "execution_count": 34,
     "metadata": {},
     "output_type": "execute_result"
    }
   ],
   "source": [
    "t.index(4)"
   ]
  },
  {
   "cell_type": "code",
   "execution_count": 35,
   "id": "0b209ae5-e811-440e-bb6b-7c5a3d27daed",
   "metadata": {},
   "outputs": [
    {
     "data": {
      "text/plain": [
       "1"
      ]
     },
     "execution_count": 35,
     "metadata": {},
     "output_type": "execute_result"
    }
   ],
   "source": [
    "t.count(5)"
   ]
  },
  {
   "cell_type": "code",
   "execution_count": 36,
   "id": "baa5dbea-13f6-4c1e-bc66-fd4f271a9322",
   "metadata": {},
   "outputs": [
    {
     "name": "stdout",
     "output_type": "stream",
     "text": [
      "('apple', 'banana', 'cherry')\n"
     ]
    }
   ],
   "source": [
    "thistuple = tuple((\"apple\", \"banana\", \"cherry\")) \n",
    "print(thistuple)"
   ]
  },
  {
   "cell_type": "code",
   "execution_count": 38,
   "id": "67ad6062-bcd6-4e42-a8dd-89ed3ecffd95",
   "metadata": {},
   "outputs": [
    {
     "name": "stdout",
     "output_type": "stream",
     "text": [
      "<class 'tuple'>\n"
     ]
    }
   ],
   "source": [
    "print(type(thistuple))"
   ]
  },
  {
   "cell_type": "code",
   "execution_count": 42,
   "id": "0e9214d0-bf84-4aa1-b31e-063b8ce2f556",
   "metadata": {},
   "outputs": [
    {
     "data": {
      "text/plain": [
       "[1, 4, 9]"
      ]
     },
     "execution_count": 42,
     "metadata": {},
     "output_type": "execute_result"
    }
   ],
   "source": [
    "a=[1,2,3]\n",
    "b=[b*b for b in a]\n",
    "b"
   ]
  },
  {
   "cell_type": "code",
   "execution_count": null,
   "id": "a96f892f-26aa-4562-9b64-93b94329ed55",
   "metadata": {},
   "outputs": [],
   "source": []
  }
 ],
 "metadata": {
  "kernelspec": {
   "display_name": "Python 3 (ipykernel)",
   "language": "python",
   "name": "python3"
  },
  "language_info": {
   "codemirror_mode": {
    "name": "ipython",
    "version": 3
   },
   "file_extension": ".py",
   "mimetype": "text/x-python",
   "name": "python",
   "nbconvert_exporter": "python",
   "pygments_lexer": "ipython3",
   "version": "3.12.4"
  }
 },
 "nbformat": 4,
 "nbformat_minor": 5
}
