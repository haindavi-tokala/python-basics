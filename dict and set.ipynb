{
 "cells": [
  {
   "cell_type": "code",
   "execution_count": 1,
   "id": "65573846-e09b-498b-8642-b48fce1a1152",
   "metadata": {},
   "outputs": [
    {
     "data": {
      "text/plain": [
       "'val1'"
      ]
     },
     "execution_count": 1,
     "metadata": {},
     "output_type": "execute_result"
    }
   ],
   "source": [
    "dic={'k1':'val1','k2':'val2'}\n",
    "dic['k1']"
   ]
  },
  {
   "cell_type": "code",
   "execution_count": 2,
   "id": "a1710217-382a-489d-96a7-d776a1f71c79",
   "metadata": {},
   "outputs": [
    {
     "data": {
      "text/plain": [
       "'val1'"
      ]
     },
     "execution_count": 2,
     "metadata": {},
     "output_type": "execute_result"
    }
   ],
   "source": [
    "dic={1:'val1',2:'val2'}\n",
    "dic[1]"
   ]
  },
  {
   "cell_type": "code",
   "execution_count": 4,
   "id": "c30cb643-eda4-4348-a32a-c1b3df19f08e",
   "metadata": {},
   "outputs": [
    {
     "data": {
      "text/plain": [
       "1"
      ]
     },
     "execution_count": 4,
     "metadata": {},
     "output_type": "execute_result"
    }
   ],
   "source": [
    "dic={'k1':'val1','k2':[1,2,3]}\n",
    "dic['k2'][0]"
   ]
  },
  {
   "cell_type": "code",
   "execution_count": 6,
   "id": "93f1df3e-3f20-446e-952f-09561b26db5d",
   "metadata": {},
   "outputs": [
    {
     "data": {
      "text/plain": [
       "{'k1': 'val1', 'k2': 'val2', 'k3': 'val3'}"
      ]
     },
     "execution_count": 6,
     "metadata": {},
     "output_type": "execute_result"
    }
   ],
   "source": [
    "dic={'k1':'val1','k2':'val2'}\n",
    "dic['k3']='val3'\n",
    "dic"
   ]
  },
  {
   "cell_type": "code",
   "execution_count": 7,
   "id": "2f1daef9-ceb2-491f-b28a-1965a0f02a3a",
   "metadata": {},
   "outputs": [
    {
     "data": {
      "text/plain": [
       "'val3'"
      ]
     },
     "execution_count": 7,
     "metadata": {},
     "output_type": "execute_result"
    }
   ],
   "source": [
    "dic.pop('k3')"
   ]
  },
  {
   "cell_type": "code",
   "execution_count": 8,
   "id": "d7d416d5-17fb-454b-91f4-bcb04c2bfa7e",
   "metadata": {},
   "outputs": [
    {
     "data": {
      "text/plain": [
       "{'k1': 'val1', 'k2': 'val2'}"
      ]
     },
     "execution_count": 8,
     "metadata": {},
     "output_type": "execute_result"
    }
   ],
   "source": [
    "dic"
   ]
  },
  {
   "cell_type": "code",
   "execution_count": 11,
   "id": "aec7dabe-5115-41e0-8f20-0f4f1769b849",
   "metadata": {},
   "outputs": [
    {
     "data": {
      "text/plain": [
       "{'k3': 'val3'}"
      ]
     },
     "execution_count": 11,
     "metadata": {},
     "output_type": "execute_result"
    }
   ],
   "source": [
    "d={}\n",
    "d.update({'k3':'val3'})\n",
    "d"
   ]
  },
  {
   "cell_type": "code",
   "execution_count": 12,
   "id": "2e418ce5-359a-49fd-a8c2-056e0f333fae",
   "metadata": {},
   "outputs": [
    {
     "data": {
      "text/plain": [
       "{'k3': 'val3', 'd4': {'name': 'abc', 'age': '20'}}"
      ]
     },
     "execution_count": 12,
     "metadata": {},
     "output_type": "execute_result"
    }
   ],
   "source": [
    "d['d4']={'name':'abc','age':'20'}\n",
    "d"
   ]
  },
  {
   "cell_type": "code",
   "execution_count": 13,
   "id": "b6ad3eb4-2942-4f34-bca3-cab2a0a050ed",
   "metadata": {},
   "outputs": [
    {
     "data": {
      "text/plain": [
       "'20'"
      ]
     },
     "execution_count": 13,
     "metadata": {},
     "output_type": "execute_result"
    }
   ],
   "source": [
    "d['d4']['age']"
   ]
  },
  {
   "cell_type": "code",
   "execution_count": 14,
   "id": "9cb1b695-8db3-475e-85ae-cea1733a9290",
   "metadata": {},
   "outputs": [
    {
     "name": "stdout",
     "output_type": "stream",
     "text": [
      "dict_keys(['k3', 'd4']) dict_values(['val3', {'name': 'abc', 'age': '20'}]) dict_items([('k3', 'val3'), ('d4', {'name': 'abc', 'age': '20'})])\n"
     ]
    }
   ],
   "source": [
    "print(d.keys(),d.values(),d.items())"
   ]
  },
  {
   "cell_type": "code",
   "execution_count": 18,
   "id": "dbb1f76f-e062-44a7-a6c4-137bed20d65d",
   "metadata": {},
   "outputs": [
    {
     "data": {
      "text/plain": [
       "{'k3': 'val3', 'd4': {'name': 'abc', 'age': '20'}}"
      ]
     },
     "execution_count": 18,
     "metadata": {},
     "output_type": "execute_result"
    }
   ],
   "source": [
    "newdic={keys:val for keys,val in d.items()}\n",
    "newdic"
   ]
  },
  {
   "cell_type": "code",
   "execution_count": 24,
   "id": "ca08132b-3f6e-4de1-be44-cb69c327cf69",
   "metadata": {},
   "outputs": [
    {
     "data": {
      "text/plain": [
       "{'k3': 'val3'}"
      ]
     },
     "execution_count": 24,
     "metadata": {},
     "output_type": "execute_result"
    }
   ],
   "source": [
    "newdic1={keys:val for keys,val in d.items() if keys=='k3'}\n",
    "newdic1"
   ]
  },
  {
   "cell_type": "code",
   "execution_count": 25,
   "id": "9359bcbd-8a9f-48b9-966c-c8135d4c104e",
   "metadata": {},
   "outputs": [
    {
     "data": {
      "text/plain": [
       "{'k3': 'key is k3', 'd4': 'key is d4'}"
      ]
     },
     "execution_count": 25,
     "metadata": {},
     "output_type": "execute_result"
    }
   ],
   "source": [
    "newdic1={keys:('key is k3' if keys=='k3' else 'key is d4' )for keys,val in d.items() }\n",
    "newdic1"
   ]
  },
  {
   "cell_type": "code",
   "execution_count": 30,
   "id": "5ce18c93-0723-428d-bf4b-8c6f52b50e94",
   "metadata": {},
   "outputs": [
    {
     "data": {
      "text/plain": [
       "{1: 'one', 2: 'two', 3: 'three'}"
      ]
     },
     "execution_count": 30,
     "metadata": {},
     "output_type": "execute_result"
    }
   ],
   "source": [
    "dicti={1:'one',3:'three',2:'two'}\n",
    "l=list(dicti)\n",
    "l.sort()\n",
    "newd={}\n",
    "newd={i:dicti[i] for i in l}\n",
    "newd    \n",
    "    "
   ]
  },
  {
   "cell_type": "code",
   "execution_count": null,
   "id": "fd80dacb-5cbd-4a8f-8546-6b4fd6623f7d",
   "metadata": {},
   "outputs": [],
   "source": [
    "SETS"
   ]
  },
  {
   "cell_type": "code",
   "execution_count": 31,
   "id": "dc30b12f-26dd-4a58-80a2-8a7fc20f62e8",
   "metadata": {},
   "outputs": [
    {
     "data": {
      "text/plain": [
       "{1}"
      ]
     },
     "execution_count": 31,
     "metadata": {},
     "output_type": "execute_result"
    }
   ],
   "source": [
    "x=set()\n",
    "x.add(1)\n",
    "x"
   ]
  },
  {
   "cell_type": "code",
   "execution_count": 35,
   "id": "6ceb266c-8fd8-4786-913c-6f078cb8dedf",
   "metadata": {},
   "outputs": [
    {
     "data": {
      "text/plain": [
       "{1, 2, 3, 4, 5, 6}"
      ]
     },
     "execution_count": 35,
     "metadata": {},
     "output_type": "execute_result"
    }
   ],
   "source": [
    "a=[1,1,2,3,4,4,5,6,6]\n",
    "set(a)"
   ]
  },
  {
   "cell_type": "code",
   "execution_count": 34,
   "id": "1b886404-f826-4136-a374-3abac2d1dd03",
   "metadata": {},
   "outputs": [
    {
     "ename": "AttributeError",
     "evalue": "'tuple' object has no attribute 'add'",
     "output_type": "error",
     "traceback": [
      "\u001b[1;31m---------------------------------------------------------------------------\u001b[0m",
      "\u001b[1;31mAttributeError\u001b[0m                            Traceback (most recent call last)",
      "Cell \u001b[1;32mIn[34], line 1\u001b[0m\n\u001b[1;32m----> 1\u001b[0m \u001b[43my\u001b[49m\u001b[38;5;241;43m.\u001b[39;49m\u001b[43madd\u001b[49m(\u001b[38;5;241m1\u001b[39m)\n",
      "\u001b[1;31mAttributeError\u001b[0m: 'tuple' object has no attribute 'add'"
     ]
    }
   ],
   "source": []
  },
  {
   "cell_type": "code",
   "execution_count": null,
   "id": "5ddbe8a2-f46f-4af4-a4fd-c32832fdd9b2",
   "metadata": {},
   "outputs": [],
   "source": []
  }
 ],
 "metadata": {
  "kernelspec": {
   "display_name": "Python 3 (ipykernel)",
   "language": "python",
   "name": "python3"
  },
  "language_info": {
   "codemirror_mode": {
    "name": "ipython",
    "version": 3
   },
   "file_extension": ".py",
   "mimetype": "text/x-python",
   "name": "python",
   "nbconvert_exporter": "python",
   "pygments_lexer": "ipython3",
   "version": "3.12.7"
  }
 },
 "nbformat": 4,
 "nbformat_minor": 5
}
