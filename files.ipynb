{
 "cells": [
  {
   "cell_type": "code",
   "execution_count": 23,
   "id": "0e558a37-c311-4bbc-9c21-1957d21b3bfb",
   "metadata": {},
   "outputs": [
    {
     "name": "stdout",
     "output_type": "stream",
     "text": [
      "abc\n",
      "def\n",
      "ghi\n",
      "['abc\\n', 'def\\n', 'ghi']\n"
     ]
    }
   ],
   "source": [
    "f=open('abc.txt','r')\n",
    "print(f.read())\n",
    "f.seek(0)\n",
    "l=f.readlines()\n",
    "print(l)"
   ]
  },
  {
   "cell_type": "code",
   "execution_count": 24,
   "id": "be27b16c-e968-4889-836c-65cb12daea9a",
   "metadata": {},
   "outputs": [
    {
     "name": "stdout",
     "output_type": "stream",
     "text": [
      "3\n",
      "['abc\\n', 'def\\n', 'ghi']\n",
      "abc\n",
      "\n"
     ]
    }
   ],
   "source": [
    "print(len(l))\n",
    "print(l)\n",
    "print(l[0])\n"
   ]
  },
  {
   "cell_type": "code",
   "execution_count": null,
   "id": "0e724458-2a91-4b3e-816d-dbae72664ade",
   "metadata": {},
   "outputs": [],
   "source": []
  }
 ],
 "metadata": {
  "kernelspec": {
   "display_name": "Python 3 (ipykernel)",
   "language": "python",
   "name": "python3"
  },
  "language_info": {
   "codemirror_mode": {
    "name": "ipython",
    "version": 3
   },
   "file_extension": ".py",
   "mimetype": "text/x-python",
   "name": "python",
   "nbconvert_exporter": "python",
   "pygments_lexer": "ipython3",
   "version": "3.12.4"
  }
 },
 "nbformat": 4,
 "nbformat_minor": 5
}
