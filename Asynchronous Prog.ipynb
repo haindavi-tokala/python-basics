{
 "cells": [
  {
   "cell_type": "code",
   "execution_count": 15,
   "id": "e2e28ebc-9e5b-4aa8-b638-1366dc3c65f3",
   "metadata": {},
   "outputs": [
    {
     "name": "stdout",
     "output_type": "stream",
     "text": [
      "Hello!\n",
      "Hello again after 1 second!\n"
     ]
    }
   ],
   "source": [
    "import asyncio\n",
    "\n",
    "# Define an asynchronous function\n",
    "async def say_hello():\n",
    "    print(\"Hello!\")\n",
    "    await asyncio.sleep(1)  # Simulate I/O-bound task with sleep\n",
    "    print(\"Hello again after 1 second!\")\n",
    "\n",
    "# Check if we're already in an event loop\n",
    "async def main():\n",
    "    await say_hello()\n",
    "await main()    "
   ]
  },
  {
   "cell_type": "code",
   "execution_count": 5,
   "id": "bce40fc6-b6fb-4b5a-a0a0-211ef077b95d",
   "metadata": {},
   "outputs": [
    {
     "name": "stdout",
     "output_type": "stream",
     "text": [
      "Hello!\n",
      "Hello again after 1 second!\n"
     ]
    }
   ],
   "source": [
    "await say_hello()\n"
   ]
  },
  {
   "cell_type": "code",
   "execution_count": 12,
   "id": "1854e1aa-d510-4afb-921e-0646ad79935f",
   "metadata": {},
   "outputs": [
    {
     "name": "stdout",
     "output_type": "stream",
     "text": [
      "Task 1 started\n",
      "Task 2 started\n",
      "Task 1 finished\n",
      "Task 2 finished\n"
     ]
    }
   ],
   "source": [
    "import asyncio\n",
    "\n",
    "async def task1():\n",
    "    print(\"Task 1 started\")\n",
    "    await asyncio.sleep(2)\n",
    "    print(\"Task 1 finished\")\n",
    "\n",
    "async def task2():\n",
    "    print(\"Task 2 started\")\n",
    "    await asyncio.sleep(3)\n",
    "    print(\"Task 2 finished\")\n",
    "\n",
    "async def main():\n",
    "    # Run both tasks concurrently\n",
    "    await asyncio.gather(task1(), task2())\n",
    "\n",
    "# Directly await the main coroutine if inside an already running event loop\n",
    "await main()  # In Jupyter or similar environments\n"
   ]
  },
  {
   "cell_type": "code",
   "execution_count": null,
   "id": "a9d87b94-bff4-43f0-b537-1fb6896d26a9",
   "metadata": {},
   "outputs": [
    {
     "name": "stdout",
     "output_type": "stream",
     "text": [
      "0 from task 1\n",
      "1 from task 2\n",
      "2 from task 1\n",
      "3 from task 2\n",
      "4 from task 1\n",
      "5 from task 2\n",
      "6 from task 1\n",
      "7 from task 2\n",
      "8 from task 1\n",
      "9 from task 2\n"
     ]
    }
   ],
   "source": [
    "import asyncio\n",
    "\n",
    "async def task1():\n",
    "    for i in range(0,10):\n",
    "        if i%2==0:\n",
    "            print(i ,\"from task 1\")\n",
    "            await asyncio.sleep(1)\n",
    "    \n",
    "\n",
    "async def task2():\n",
    "    for i in range(0,10):\n",
    "        if i%2==1:\n",
    "            print(i ,\"from task 2\")\n",
    "            await asyncio.sleep(1)\n",
    "\n",
    "async def main():\n",
    "    # Run both tasks concurrently\n",
    "    await asyncio.gather(task1(), task2())\n",
    "\n",
    "await main()\n"
   ]
  },
  {
   "cell_type": "code",
   "execution_count": null,
   "id": "611d9176-f8b7-464b-a95e-64e184ccc50b",
   "metadata": {},
   "outputs": [],
   "source": []
  }
 ],
 "metadata": {
  "kernelspec": {
   "display_name": "Python 3 (ipykernel)",
   "language": "python",
   "name": "python3"
  },
  "language_info": {
   "codemirror_mode": {
    "name": "ipython",
    "version": 3
   },
   "file_extension": ".py",
   "mimetype": "text/x-python",
   "name": "python",
   "nbconvert_exporter": "python",
   "pygments_lexer": "ipython3",
   "version": "3.12.7"
  }
 },
 "nbformat": 4,
 "nbformat_minor": 5
}
