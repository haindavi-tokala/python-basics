{
 "cells": [
  {
   "cell_type": "code",
   "execution_count": 2,
   "id": "60c5295b-5448-4597-a781-391ba91d1e76",
   "metadata": {},
   "outputs": [
    {
     "name": "stdin",
     "output_type": "stream",
     "text": [
      "enter year 2024\n"
     ]
    },
    {
     "name": "stdout",
     "output_type": "stream",
     "text": [
      "leap year\n"
     ]
    }
   ],
   "source": [
    "#Program to print if a yr is leap or not\n",
    "yr=int(input(\"enter year\"))\n",
    "if(( yr%4==0 and yr%100!=0)or( yr%400==0)):\n",
    "    print(\"leap year\")\n",
    "else:\n",
    "    print(\"not a leap year\")"
   ]
  },
  {
   "cell_type": "code",
   "execution_count": 3,
   "id": "596cc76d-3ef1-46cd-b200-d6b207be77ac",
   "metadata": {},
   "outputs": [
    {
     "name": "stdout",
     "output_type": "stream",
     "text": [
      "2\n",
      "3\n",
      "5\n",
      "7\n",
      "11\n",
      "13\n",
      "17\n",
      "19\n",
      "23\n",
      "29\n",
      "31\n",
      "37\n",
      "41\n",
      "43\n",
      "47\n",
      "53\n",
      "59\n",
      "61\n",
      "67\n",
      "71\n",
      "73\n",
      "79\n",
      "83\n",
      "89\n",
      "97\n"
     ]
    }
   ],
   "source": [
    "#Program to print prime no in a range\n",
    "low=0 \n",
    "up=100\n",
    "for i in range(low,up+1):\n",
    "    if i<2:\n",
    "        continue\n",
    "    for j in range(2,i):\n",
    "        if i%j==0 :\n",
    "            break\n",
    "    else:\n",
    "        print(i)\n",
    "        \n",
    "            "
   ]
  },
  {
   "cell_type": "code",
   "execution_count": 5,
   "id": "120c86a5-96e1-4dbd-8de5-55bbedbc658c",
   "metadata": {},
   "outputs": [
    {
     "name": "stdout",
     "output_type": "stream",
     "text": [
      "3628800\n"
     ]
    }
   ],
   "source": [
    "''' Program to print factorial of a no'''\n",
    "\n",
    "def fact(n):\n",
    "    if n==1:\n",
    "        return 1\n",
    "    else:\n",
    "        return n*fact(n-1)    \n",
    "f=fact(10)\n",
    "print(f)"
   ]
  },
  {
   "cell_type": "code",
   "execution_count": 6,
   "id": "7df5eeed-fe87-42e0-a180-a22197e950d8",
   "metadata": {},
   "outputs": [
    {
     "name": "stdout",
     "output_type": "stream",
     "text": [
      "{1: 3, 2: 2, 3: 3}\n"
     ]
    }
   ],
   "source": [
    "''' Program to print the count of each element in a list'''\n",
    "q=[1,2,3,1,1,2,3,3]\n",
    "dic={}\n",
    "for i in range(len(q)):\n",
    "    if q[i] not in dic.keys():\n",
    "        dic[q[i]]=1\n",
    "    else:\n",
    "        dic[q[i]]+=1 \n",
    "print(dic)  "
   ]
  },
  {
   "cell_type": "code",
   "execution_count": 7,
   "id": "4e70643c-7894-4fd7-b526-c29b0c7ce486",
   "metadata": {},
   "outputs": [
    {
     "name": "stdout",
     "output_type": "stream",
     "text": [
      "[1, 2, 3]\n"
     ]
    }
   ],
   "source": [
    "# To print unique elements from list\n",
    "a=[1,1,2,3,3]\n",
    "res=[]\n",
    "for item in (a):\n",
    "    if item not in res:\n",
    "        res.append(item)\n",
    "print(res)    "
   ]
  },
  {
   "cell_type": "code",
   "execution_count": 1,
   "id": "a2cea6f8-5a67-4db5-beac-bbb932a88c80",
   "metadata": {},
   "outputs": [
    {
     "name": "stdout",
     "output_type": "stream",
     "text": [
      "[1, 2, 3, 4, 5, 6]\n"
     ]
    }
   ],
   "source": [
    "# Program to merge and sort lists\n",
    "a=[2,1,3]\n",
    "b=[5,4,6]\n",
    "a.extend(b)\n",
    "for i in range(0,len(a)):\n",
    "    for j in range(i+1,len(a)):\n",
    "        if(a[i]>=a[j]):\n",
    "            a[i],a[j]=a[j],a[i]\n",
    "        \n",
    "       \n",
    "print(a)\n",
    "    "
   ]
  },
  {
   "cell_type": "code",
   "execution_count": 2,
   "id": "403df3df-95cf-48e6-87f7-a5320763f388",
   "metadata": {},
   "outputs": [
    {
     "name": "stdout",
     "output_type": "stream",
     "text": [
      "['L', 'e', 'i', 'n', 's', 't']\n",
      "['e', 'i', 'l', 'n', 's', 't']\n",
      "The strings aren't anagrams.\n"
     ]
    }
   ],
   "source": [
    "# function to check if two strings are\n",
    "# anagram or not \n",
    "def check(s1, s2):\n",
    "    print(sorted(s1))\n",
    "    print(sorted(s2))\n",
    "    \n",
    "    # the sorted strings are checked \n",
    "    if(sorted(s1)== sorted(s2)):\n",
    "        print(\"The strings are anagrams.\") \n",
    "    else:\n",
    "        print(\"The strings aren't anagrams.\")         \n",
    "        \n",
    "# driver code  \n",
    "s1 =\"Listen\"\n",
    "s2 =\"silent\" \n",
    "check(s1, s2)"
   ]
  },
  {
   "cell_type": "code",
   "execution_count": 3,
   "id": "19fb97f9-56ca-4992-9f92-a745dbdf5c86",
   "metadata": {},
   "outputs": [
    {
     "name": "stdout",
     "output_type": "stream",
     "text": [
      "30\n"
     ]
    }
   ],
   "source": [
    "a=10\n",
    "b='+'\n",
    "c=20\n",
    "match b:\n",
    "    case '+':\n",
    "        print(a+c)\n",
    "    case '-':\n",
    "        print(a-c)\n",
    "    case '*':\n",
    "        print(a*c)    \n",
    "    case '/':\n",
    "        print(a/c) \n",
    "        \n"
   ]
  },
  {
   "cell_type": "code",
   "execution_count": 4,
   "id": "bfbca990-c3b0-439e-84af-144c0bbf38a0",
   "metadata": {},
   "outputs": [
    {
     "name": "stdout",
     "output_type": "stream",
     "text": [
      "10\n"
     ]
    }
   ],
   "source": [
    "a,b=10,20\n",
    "while(b!=0):\n",
    "    r=a%b\n",
    "    a=b\n",
    "    b=r\n",
    "print(a)    "
   ]
  },
  {
   "cell_type": "code",
   "execution_count": 10,
   "id": "e1f09bb1-9142-4152-9b31-f9281d8c03be",
   "metadata": {},
   "outputs": [
    {
     "name": "stdout",
     "output_type": "stream",
     "text": [
      "121\n",
      "yes\n"
     ]
    }
   ],
   "source": [
    "n=str(121)\n",
    "rev=str()\n",
    "b=n\n",
    "l=len(n)-1\n",
    "while(l>=0):\n",
    "    rev+=n[l]\n",
    "    l=l-1\n",
    "print(rev)    \n",
    "if(rev==b):\n",
    "    print('yes')\n",
    "else:\n",
    "    print('no')"
   ]
  },
  {
   "cell_type": "code",
   "execution_count": null,
   "id": "66d93be2-280f-49cf-9c6d-6e72735d5dd5",
   "metadata": {},
   "outputs": [],
   "source": []
  }
 ],
 "metadata": {
  "kernelspec": {
   "display_name": "Python 3 (ipykernel)",
   "language": "python",
   "name": "python3"
  },
  "language_info": {
   "codemirror_mode": {
    "name": "ipython",
    "version": 3
   },
   "file_extension": ".py",
   "mimetype": "text/x-python",
   "name": "python",
   "nbconvert_exporter": "python",
   "pygments_lexer": "ipython3",
   "version": "3.12.7"
  }
 },
 "nbformat": 4,
 "nbformat_minor": 5
}
