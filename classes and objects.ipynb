{
 "cells": [
  {
   "cell_type": "code",
   "execution_count": 1,
   "id": "7ef3f025-d2fa-435e-b617-c008958d5985",
   "metadata": {},
   "outputs": [
    {
     "name": "stdout",
     "output_type": "stream",
     "text": [
      "first name= Neha\n",
      "last name= Raj\n"
     ]
    }
   ],
   "source": [
    "class names:\n",
    "    first='abc'\n",
    "    last='xyz'\n",
    "    def __init__(self,first,last):\n",
    "        self.first=first\n",
    "        self.last=last\n",
    "    def display(self):\n",
    "        print(\"first name=\",self.first)\n",
    "        print(\"last name=\",self.last)\n",
    "n=names('Neha','Raj')\n",
    "n.display()"
   ]
  },
  {
   "cell_type": "code",
   "execution_count": 2,
   "id": "f1a22704-6748-419f-9f29-f1b9d9902b69",
   "metadata": {},
   "outputs": [
    {
     "data": {
      "text/plain": [
       "'abc'"
      ]
     },
     "execution_count": 2,
     "metadata": {},
     "output_type": "execute_result"
    }
   ],
   "source": [
    "names.first"
   ]
  },
  {
   "cell_type": "code",
   "execution_count": 3,
   "id": "60e277eb-32cc-4b25-9d8c-6b1915017e7f",
   "metadata": {},
   "outputs": [
    {
     "data": {
      "text/plain": [
       "'xyz'"
      ]
     },
     "execution_count": 3,
     "metadata": {},
     "output_type": "execute_result"
    }
   ],
   "source": [
    "names.last"
   ]
  },
  {
   "cell_type": "code",
   "execution_count": 53,
   "id": "4ae0597b-278d-493e-8a9e-b25cf75454c0",
   "metadata": {},
   "outputs": [
    {
     "name": "stdin",
     "output_type": "stream",
     "text": [
      "enter expression 10 + 12\n"
     ]
    },
    {
     "name": "stdout",
     "output_type": "stream",
     "text": [
      "result =  22\n"
     ]
    }
   ],
   "source": [
    "import sys\n",
    "class calculator:\n",
    "    def calculate(self,a,op,b):\n",
    "        if op=='+':\n",
    "            return a+b\n",
    "        elif op=='-':\n",
    "            return a-b\n",
    "        elif op=='*':\n",
    "            return a*b\n",
    "        elif op=='/':\n",
    "            if b==0:\n",
    "                 print(\"div by zero\")\n",
    "            else:\n",
    "                return a/b\n",
    "               \n",
    "exp=(input((\"enter expression\")))\n",
    "a,c=0,0\n",
    "b=''\n",
    "if(exp=='0'):\n",
    "    sys.exit()\n",
    "else:   \n",
    "    for i in range(len(exp)):\n",
    "        if exp[i]==' ':\n",
    "            continue\n",
    "        \n",
    "        if (exp[i] not in {'+','-','*','/'}):\n",
    "            \n",
    "            if(b==''):\n",
    "                a=(a)*10+int(exp[i])\n",
    "            else:\n",
    "                c=(c)*10+int(exp[i])\n",
    "        else:\n",
    "            \n",
    "                b=exp[i]\n",
    "cal=calculator()\n",
    "result=cal.calculate(a,b,c)\n",
    "print(\"result = \",result)\n",
    "            \n",
    "\n",
    "            \n",
    "            \n",
    "            \n",
    "        \n",
    "    "
   ]
  },
  {
   "cell_type": "code",
   "execution_count": 34,
   "id": "e5681ad2-0d67-4cb6-9529-37e7878b41c7",
   "metadata": {},
   "outputs": [
    {
     "name": "stdin",
     "output_type": "stream",
     "text": [
      "Enter expression:  12+13\n"
     ]
    },
    {
     "name": "stdout",
     "output_type": "stream",
     "text": [
      "The result of 12 + 13 is: 25\n"
     ]
    }
   ],
   "source": [
    "#from chatgpt\n",
    "\n",
    "import sys\n",
    "\n",
    "class Calculator:\n",
    "    def calculate(self, a, op, b):\n",
    "        if op == '+':\n",
    "            return a + b\n",
    "        elif op == '-':\n",
    "            return a - b\n",
    "        elif op == '*':\n",
    "            return a * b\n",
    "        elif op == '/':\n",
    "            if b == 0:\n",
    "                print(\"Division by zero error\")\n",
    "                return None\n",
    "            else:\n",
    "                return a / b\n",
    "\n",
    "# Get expression from user\n",
    "exp = input(\"Enter expression: \")\n",
    "\n",
    "# Exit if input is '0'\n",
    "if exp == '0':\n",
    "    sys.exit()\n",
    "\n",
    "# Initialize variables\n",
    "a = 0  # First operand\n",
    "b = 0  # Second operand\n",
    "operator = ''  # Operator\n",
    "parsing_second = False  # Whether we are parsing the second operand\n",
    "\n",
    "# Parse the input expression\n",
    "for i in range(len(exp)):\n",
    "    if exp[i].isdigit():  # If it's a digit\n",
    "        if not parsing_second:  # We're building the first number\n",
    "            a = a * 10 + int(exp[i])\n",
    "        else:  # We're building the second number\n",
    "            b = b * 10 + int(exp[i])\n",
    "    elif exp[i] in {'+', '-', '*', '/'}:  # If it's an operator\n",
    "        operator = exp[i]\n",
    "        parsing_second = True  # Now we're ready to parse the second operand\n",
    "    else:\n",
    "        print(\"Invalid character in the expression!\")\n",
    "        sys.exit()\n",
    "\n",
    "# Create a calculator object\n",
    "calc = Calculator()\n",
    "\n",
    "# Perform the calculation\n",
    "result = calc.calculate(a, operator, b)\n",
    "\n",
    "# Print the result\n",
    "if result is not None:\n",
    "    print(f\"The result of {a} {operator} {b} is: {result}\")\n"
   ]
  },
  {
   "cell_type": "code",
   "execution_count": null,
   "id": "28555ac3-8580-4fa8-99b0-6f89a60fa01e",
   "metadata": {},
   "outputs": [],
   "source": []
  }
 ],
 "metadata": {
  "kernelspec": {
   "display_name": "Python 3 (ipykernel)",
   "language": "python",
   "name": "python3"
  },
  "language_info": {
   "codemirror_mode": {
    "name": "ipython",
    "version": 3
   },
   "file_extension": ".py",
   "mimetype": "text/x-python",
   "name": "python",
   "nbconvert_exporter": "python",
   "pygments_lexer": "ipython3",
   "version": "3.12.4"
  }
 },
 "nbformat": 4,
 "nbformat_minor": 5
}
