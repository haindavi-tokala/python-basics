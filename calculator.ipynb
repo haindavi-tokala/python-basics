{
 "cells": [
  {
   "cell_type": "code",
   "execution_count": 2,
   "id": "01afe7fa-bc61-4e85-854c-cd2b60137891",
   "metadata": {},
   "outputs": [
    {
     "name": "stdout",
     "output_type": "stream",
     "text": [
      "30\n"
     ]
    }
   ],
   "source": [
    "a=10\n",
    "b='+'\n",
    "c=20\n",
    "match b:\n",
    "    case '+':\n",
    "        print(a+c)\n",
    "    case '-':\n",
    "        print(a-c)\n",
    "    case '*':\n",
    "        print(a*c)    \n",
    "    case '/':\n",
    "        print(a/c) \n",
    "        \n"
   ]
  },
  {
   "cell_type": "code",
   "execution_count": null,
   "id": "d018b7bd-128e-4780-b2c4-c3c613048958",
   "metadata": {},
   "outputs": [],
   "source": []
  }
 ],
 "metadata": {
  "kernelspec": {
   "display_name": "Python 3 (ipykernel)",
   "language": "python",
   "name": "python3"
  },
  "language_info": {
   "codemirror_mode": {
    "name": "ipython",
    "version": 3
   },
   "file_extension": ".py",
   "mimetype": "text/x-python",
   "name": "python",
   "nbconvert_exporter": "python",
   "pygments_lexer": "ipython3",
   "version": "3.12.4"
  }
 },
 "nbformat": 4,
 "nbformat_minor": 5
}
