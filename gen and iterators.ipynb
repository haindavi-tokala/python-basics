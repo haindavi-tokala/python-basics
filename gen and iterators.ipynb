{
 "cells": [
  {
   "cell_type": "code",
   "execution_count": 16,
   "id": "088e0ec8-45e2-427c-9eba-d8401f48c447",
   "metadata": {},
   "outputs": [
    {
     "name": "stdin",
     "output_type": "stream",
     "text": [
      "enter the number  3\n"
     ]
    },
    {
     "name": "stdout",
     "output_type": "stream",
     "text": [
      "Starting\n",
      "3 2 1 "
     ]
    }
   ],
   "source": [
    "def countdown(num):\n",
    "    print(\"Starting\")\n",
    "    while num > 0:\n",
    "        yield num\n",
    "        num -= 1\n",
    "\n",
    "# Create a generator\n",
    "n=int(input(\"enter the number \"))\n",
    "gen = countdown(n)\n",
    "\n",
    "# Iterate over the generator\n",
    "for i in range(n):\n",
    "    print(next(gen),end=' ')\n"
   ]
  },
  {
   "cell_type": "code",
   "execution_count": 18,
   "id": "575a85e5-24f4-4c76-a758-e63e413f4891",
   "metadata": {},
   "outputs": [
    {
     "name": "stdout",
     "output_type": "stream",
     "text": [
      "Starting\n",
      "3\n",
      "Starting\n",
      "3\n",
      "Starting\n",
      "3\n"
     ]
    }
   ],
   "source": [
    "def countdown(num):\n",
    "    print(\"Starting\")\n",
    "    while num > 0:\n",
    "        yield num\n",
    "        num -= 1\n",
    "\n",
    "# Create a generator\n",
    "gen = countdown(3)\n",
    "\n",
    "# Iterate over the generator\n",
    "print(next(gen))  # Output: Starting 3\n",
    "print(next(gen))  # Output: 2\n",
    "print(next(gen))  # Output: 1\n",
    "# Calling next again will raise StopIteration exception\n"
   ]
  },
  {
   "cell_type": "code",
   "execution_count": 23,
   "id": "30d907d8-0dc7-4029-8ad1-f19513d275ab",
   "metadata": {},
   "outputs": [
    {
     "name": "stdout",
     "output_type": "stream",
     "text": [
      "1 2 3 "
     ]
    }
   ],
   "source": [
    "class MyIterator:\n",
    "    def __init__(self, start, end):\n",
    "        self.current = start\n",
    "        self.end = end\n",
    "\n",
    "    def __iter__(self):\n",
    "        return self\n",
    "\n",
    "    def __next__(self):\n",
    "        if self.current < self.end:\n",
    "            val = self.current\n",
    "            self.current += 1\n",
    "            return val\n",
    "        else:\n",
    "            raise StopIteration\n",
    "\n",
    "# Using the iterator\n",
    "my_iter = MyIterator(1, 4)\n",
    "for i in my_iter:\n",
    "    print(i,end=' ')  # Output: 1 2 3\n"
   ]
  },
  {
   "cell_type": "code",
   "execution_count": null,
   "id": "1d1c6fee-3b5c-465f-8ff0-f39f3fc61a14",
   "metadata": {},
   "outputs": [],
   "source": []
  }
 ],
 "metadata": {
  "kernelspec": {
   "display_name": "Python 3 (ipykernel)",
   "language": "python",
   "name": "python3"
  },
  "language_info": {
   "codemirror_mode": {
    "name": "ipython",
    "version": 3
   },
   "file_extension": ".py",
   "mimetype": "text/x-python",
   "name": "python",
   "nbconvert_exporter": "python",
   "pygments_lexer": "ipython3",
   "version": "3.12.7"
  }
 },
 "nbformat": 4,
 "nbformat_minor": 5
}
