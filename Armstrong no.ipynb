{
 "cells": [
  {
   "cell_type": "code",
   "execution_count": 7,
   "id": "78bf1ddf-5d3e-4adc-a0a4-4376b45bd2dd",
   "metadata": {},
   "outputs": [
    {
     "name": "stdin",
     "output_type": "stream",
     "text": [
      "enter the number 153\n"
     ]
    },
    {
     "name": "stdout",
     "output_type": "stream",
     "text": [
      "153\n",
      "armstrong no\n"
     ]
    }
   ],
   "source": [
    "# To check is given no is armstrong or not\n",
    "n=int(input(\"enter the number\"))\n",
    "num=n\n",
    "sum=0\n",
    "rem=0\n",
    "while(n!=0):\n",
    "    rem=n%10\n",
    "    sum=sum+rem*rem*rem\n",
    "    n=int(n/10)  \n",
    "if(num==sum):\n",
    "    print(\"armstrong no\")\n",
    "else:\n",
    "    print(\"not armstrong no\")"
   ]
  },
  {
   "cell_type": "code",
   "execution_count": null,
   "id": "6056b125-e99b-4e71-94ad-04e5d5830d0a",
   "metadata": {},
   "outputs": [],
   "source": []
  }
 ],
 "metadata": {
  "kernelspec": {
   "display_name": "Python 3 (ipykernel)",
   "language": "python",
   "name": "python3"
  },
  "language_info": {
   "codemirror_mode": {
    "name": "ipython",
    "version": 3
   },
   "file_extension": ".py",
   "mimetype": "text/x-python",
   "name": "python",
   "nbconvert_exporter": "python",
   "pygments_lexer": "ipython3",
   "version": "3.12.4"
  }
 },
 "nbformat": 4,
 "nbformat_minor": 5
}
