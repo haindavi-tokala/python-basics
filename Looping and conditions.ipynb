{
 "cells": [
  {
   "cell_type": "code",
   "execution_count": 2,
   "id": "20c83b40-e876-47d0-9624-90b0b3eb6576",
   "metadata": {},
   "outputs": [
    {
     "name": "stdout",
     "output_type": "stream",
     "text": [
      "0 1 2 3 4 5 6 7 8 9 "
     ]
    }
   ],
   "source": [
    "for i in range(10):\n",
    "    print(i,end=' ')"
   ]
  },
  {
   "cell_type": "code",
   "execution_count": 3,
   "id": "6579bf24-9edb-47bf-897b-5f473eada1d7",
   "metadata": {},
   "outputs": [
    {
     "name": "stdout",
     "output_type": "stream",
     "text": [
      "10 9 8 7 6 5 4 3 2 "
     ]
    }
   ],
   "source": [
    "for i in range(10,1,-1):\n",
    "    print(i,end=' ')"
   ]
  },
  {
   "cell_type": "code",
   "execution_count": 7,
   "id": "66952392-9166-4f23-898c-8e9915233d55",
   "metadata": {},
   "outputs": [
    {
     "name": "stdout",
     "output_type": "stream",
     "text": [
      "10 8 6 4 2 0 -2 -4 -6 -8 "
     ]
    }
   ],
   "source": [
    "for i in range(10,-10,-2):\n",
    "    print(i,end=' ')"
   ]
  },
  {
   "cell_type": "code",
   "execution_count": 11,
   "id": "314b24aa-f32f-4337-80cb-a15f3af3df3c",
   "metadata": {},
   "outputs": [
    {
     "name": "stdout",
     "output_type": "stream",
     "text": [
      "even no from 0 to 10\n",
      "0 2 4 6 8 10 "
     ]
    }
   ],
   "source": [
    "print(\"even no from 0 to 10\")\n",
    "for i in range(0,11):\n",
    "    if(i%2==0):\n",
    "        print(i,end=' ')"
   ]
  },
  {
   "cell_type": "code",
   "execution_count": 12,
   "id": "93bc0395-0311-4bff-b2bc-df1b80f70647",
   "metadata": {},
   "outputs": [
    {
     "name": "stdout",
     "output_type": "stream",
     "text": [
      "odd no from 0 to 10\n",
      "1 3 5 7 9 "
     ]
    }
   ],
   "source": [
    "print(\"odd no from 0 to 10\")\n",
    "for i in range(0,11):\n",
    "    if(i%2!=0):\n",
    "        print(i,end=' ')"
   ]
  },
  {
   "cell_type": "code",
   "execution_count": 20,
   "id": "7aa64ecb-00cc-4077-aa25-0fe6f4136377",
   "metadata": {},
   "outputs": [
    {
     "name": "stdout",
     "output_type": "stream",
     "text": [
      "0 1 2 3 4 5 6 7 8 9 10 "
     ]
    }
   ],
   "source": [
    "n=0\n",
    "while(n<11):\n",
    "    print(n,end=' ')\n",
    "    n=n+1"
   ]
  },
  {
   "cell_type": "code",
   "execution_count": 21,
   "id": "3262888b-e586-4187-818f-3dee87e69f22",
   "metadata": {},
   "outputs": [
    {
     "name": "stdout",
     "output_type": "stream",
     "text": [
      "0 2 4 6 8 10 "
     ]
    }
   ],
   "source": [
    "num=0 \n",
    "while(num<11): \n",
    "    if(num%2==0):\n",
    "        print(num,end=' ') \n",
    "    num+=1"
   ]
  },
  {
   "cell_type": "code",
   "execution_count": 23,
   "id": "47a8febc-6419-4ce9-b34f-ee740a3889b7",
   "metadata": {},
   "outputs": [
    {
     "name": "stdout",
     "output_type": "stream",
     "text": [
      "a c "
     ]
    }
   ],
   "source": [
    "s='abc'\n",
    "for i in s:\n",
    "    if i=='b':\n",
    "        continue\n",
    "    else:\n",
    "        print(i,end=' ')\n",
    "    "
   ]
  },
  {
   "cell_type": "code",
   "execution_count": 29,
   "id": "403727b5-bc54-45ab-a588-f39110ddf506",
   "metadata": {},
   "outputs": [
    {
     "name": "stdout",
     "output_type": "stream",
     "text": [
      "3\n"
     ]
    }
   ],
   "source": [
    "a='123'\n",
    "large=a[0]\n",
    "for i in (1,len(a)-1):\n",
    "    if a[i]>large:\n",
    "        large=a[i]\n",
    "print(large)        "
   ]
  },
  {
   "cell_type": "code",
   "execution_count": 32,
   "id": "24ada90a-bd3e-4d13-b278-f11d4e9a2cf8",
   "metadata": {},
   "outputs": [
    {
     "name": "stdout",
     "output_type": "stream",
     "text": [
      "3\n"
     ]
    }
   ],
   "source": [
    "a=[1,2,3]\n",
    "large=a[0]\n",
    "for i in (1,len(a)-1):\n",
    "    if a[i]>large:\n",
    "        large=a[i]\n",
    "print(large)        \n"
   ]
  },
  {
   "cell_type": "code",
   "execution_count": 33,
   "id": "8e2abe7c-f348-4735-a110-f7157cb83787",
   "metadata": {},
   "outputs": [
    {
     "name": "stdout",
     "output_type": "stream",
     "text": [
      "a and b are equal\n"
     ]
    }
   ],
   "source": [
    "a = 33\n",
    "b = 33\n",
    "if b > a:\n",
    "  print(\"b is greater than a\")\n",
    "elif a == b:\n",
    "  print(\"a and b are equal\")"
   ]
  },
  {
   "cell_type": "code",
   "execution_count": null,
   "id": "39e13391-68d3-45db-86ec-e6891612eb9b",
   "metadata": {},
   "outputs": [],
   "source": []
  }
 ],
 "metadata": {
  "kernelspec": {
   "display_name": "Python 3 (ipykernel)",
   "language": "python",
   "name": "python3"
  },
  "language_info": {
   "codemirror_mode": {
    "name": "ipython",
    "version": 3
   },
   "file_extension": ".py",
   "mimetype": "text/x-python",
   "name": "python",
   "nbconvert_exporter": "python",
   "pygments_lexer": "ipython3",
   "version": "3.12.4"
  }
 },
 "nbformat": 4,
 "nbformat_minor": 5
}
