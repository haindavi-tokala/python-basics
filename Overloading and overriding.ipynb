{
 "cells": [
  {
   "cell_type": "code",
   "execution_count": 1,
   "id": "5f840015-baaa-4ec8-a843-81828c94564b",
   "metadata": {},
   "outputs": [],
   "source": [
    "#python doesnot natively support method overloading\n",
    "def add(a,b):\n",
    "    print(a+b)\n",
    "def add(a,b,c):\n",
    "    print(a+b+c)"
   ]
  },
  {
   "cell_type": "code",
   "execution_count": 3,
   "id": "04721e8d-b9d6-4f76-aee1-4a5b27c0ace1",
   "metadata": {},
   "outputs": [
    {
     "ename": "TypeError",
     "evalue": "add() missing 1 required positional argument: 'c'",
     "output_type": "error",
     "traceback": [
      "\u001b[1;31m---------------------------------------------------------------------------\u001b[0m",
      "\u001b[1;31mTypeError\u001b[0m                                 Traceback (most recent call last)",
      "Cell \u001b[1;32mIn[3], line 1\u001b[0m\n\u001b[1;32m----> 1\u001b[0m \u001b[38;5;28mprint\u001b[39m(\u001b[43madd\u001b[49m\u001b[43m(\u001b[49m\u001b[38;5;241;43m1\u001b[39;49m\u001b[43m,\u001b[49m\u001b[38;5;241;43m2\u001b[39;49m\u001b[43m)\u001b[49m)\n",
      "\u001b[1;31mTypeError\u001b[0m: add() missing 1 required positional argument: 'c'"
     ]
    }
   ],
   "source": [
    "print(add(1,2))"
   ]
  },
  {
   "cell_type": "code",
   "execution_count": 4,
   "id": "2c1d1326-2422-4418-a79e-a60d22f497d6",
   "metadata": {},
   "outputs": [
    {
     "name": "stdout",
     "output_type": "stream",
     "text": [
      "3\n"
     ]
    }
   ],
   "source": [
    "#we can used defaults arguements to implement overloading\n",
    "def add(a,b,c=0):\n",
    "    print(a+b+c)\n",
    "add(1,2)    "
   ]
  },
  {
   "cell_type": "code",
   "execution_count": 15,
   "id": "d4a8f7b2-37a1-4f8c-b06c-3e49af4724a1",
   "metadata": {},
   "outputs": [
    {
     "data": {
      "text/plain": [
       "(1, 2)"
      ]
     },
     "execution_count": 15,
     "metadata": {},
     "output_type": "execute_result"
    }
   ],
   "source": [
    "#we can also use *args and **kwargs\n",
    "def add(arg1,arg2,*args):\n",
    "    sum1=arg1,arg2\n",
    "    if(len(args)>0):\n",
    "        \n",
    "        for a in args:\n",
    "            sum1=\n",
    "    return sum1\n",
    "s=add(1,2)   \n",
    "s"
   ]
  },
  {
   "cell_type": "code",
   "execution_count": 1,
   "id": "82d4f852-71e4-45ee-ab5b-f4093e81b785",
   "metadata": {},
   "outputs": [
    {
     "data": {
      "text/plain": [
       "{'raj': 9, 'ravi': 10, 'sai': 15}"
      ]
     },
     "execution_count": 1,
     "metadata": {},
     "output_type": "execute_result"
    }
   ],
   "source": [
    "md={'ravi':10,'sai':15,'raj':9}\n",
    "mk=sorted(list(md.keys()))\n",
    "n={k:md[k] for k in mk}\n",
    "n"
   ]
  },
  {
   "cell_type": "code",
   "execution_count": null,
   "id": "5bcbabb7-f05a-418e-8bb1-cdd1eb01fd45",
   "metadata": {},
   "outputs": [],
   "source": []
  }
 ],
 "metadata": {
  "kernelspec": {
   "display_name": "Python 3 (ipykernel)",
   "language": "python",
   "name": "python3"
  },
  "language_info": {
   "codemirror_mode": {
    "name": "ipython",
    "version": 3
   },
   "file_extension": ".py",
   "mimetype": "text/x-python",
   "name": "python",
   "nbconvert_exporter": "python",
   "pygments_lexer": "ipython3",
   "version": "3.12.7"
  }
 },
 "nbformat": 4,
 "nbformat_minor": 5
}
