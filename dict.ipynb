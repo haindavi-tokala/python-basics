{
 "cells": [
  {
   "cell_type": "code",
   "execution_count": 2,
   "id": "55df86ee-564a-4e3c-ba41-c2f6cc67a250",
   "metadata": {},
   "outputs": [
    {
     "name": "stdout",
     "output_type": "stream",
     "text": [
      "key=  k1  value=  val1\n",
      "key=  k2  value=  val2\n"
     ]
    }
   ],
   "source": [
    "dic={'k1':'val1','k2':'val2'}\n",
    "for k,v in dic.items():\n",
    "    print('key= ',k,' value= ',v)"
   ]
  },
  {
   "cell_type": "code",
   "execution_count": 3,
   "id": "7c8078aa-5657-4ee9-8f6d-2f165ec5d885",
   "metadata": {},
   "outputs": [
    {
     "name": "stdout",
     "output_type": "stream",
     "text": [
      "{'first': 'a', 'last': 'b'}\n"
     ]
    }
   ],
   "source": [
    "def fun(**kwargs):\n",
    "    print(kwargs)\n",
    "fun(first='a',last='b')    "
   ]
  },
  {
   "cell_type": "code",
   "execution_count": null,
   "id": "38899606-8443-4a72-a7fb-6c47e185c4fd",
   "metadata": {},
   "outputs": [],
   "source": []
  }
 ],
 "metadata": {
  "kernelspec": {
   "display_name": "Python 3 (ipykernel)",
   "language": "python",
   "name": "python3"
  },
  "language_info": {
   "codemirror_mode": {
    "name": "ipython",
    "version": 3
   },
   "file_extension": ".py",
   "mimetype": "text/x-python",
   "name": "python",
   "nbconvert_exporter": "python",
   "pygments_lexer": "ipython3",
   "version": "3.12.4"
  }
 },
 "nbformat": 4,
 "nbformat_minor": 5
}
